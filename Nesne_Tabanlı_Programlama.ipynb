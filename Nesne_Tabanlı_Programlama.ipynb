{
 "cells": [
  {
   "cell_type": "markdown",
   "id": "2b2eb6c9-ea8c-4a0a-872b-e72fe887283a",
   "metadata": {},
   "source": [
    "Nesneye yönelik programlamalar geliştirdiğimizde kodlarımız daha okunaklı olur."
   ]
  },
  {
   "cell_type": "markdown",
   "id": "76bcee71-11eb-46bb-a66c-f1998f5e95b0",
   "metadata": {},
   "source": [
    "Obje: python daki her şey birer objedir."
   ]
  },
  {
   "cell_type": "markdown",
   "id": "7d132f0c-385c-4134-a206-845618db6e08",
   "metadata": {},
   "source": [
    "Nesne tabanlı programlama ile kendi objelerimizi kurabiliriz."
   ]
  },
  {
   "cell_type": "markdown",
   "id": "830ba6b5-0905-48fe-9129-468c3cc09c99",
   "metadata": {},
   "source": [
    "CLASS:nesnelerin oluşturulmasını sağlar.Objelerin özelliklerini ve metodlarını tanımlarız."
   ]
  },
  {
   "cell_type": "code",
   "execution_count": 78,
   "id": "44781261-2973-485e-a0ed-d0069405ea40",
   "metadata": {},
   "outputs": [],
   "source": [
    "class araba():\n",
    "    model=\"fiat\"\n",
    "    renk=\"gümüş\"\n",
    "    beygir=110\n",
    "    silindir=4"
   ]
  },
  {
   "cell_type": "code",
   "execution_count": 80,
   "id": "acd5d441-2aa3-4622-b559-e4294f506409",
   "metadata": {},
   "outputs": [],
   "source": [
    "araba1=araba()"
   ]
  },
  {
   "cell_type": "code",
   "execution_count": 82,
   "id": "8bd0ef33-40ba-466d-8fa8-44bfb99c4d0d",
   "metadata": {},
   "outputs": [
    {
     "data": {
      "text/plain": [
       "<__main__.araba at 0x1fe09b6b770>"
      ]
     },
     "execution_count": 82,
     "metadata": {},
     "output_type": "execute_result"
    }
   ],
   "source": [
    "araba1"
   ]
  },
  {
   "cell_type": "markdown",
   "id": "3a2c3632-f4da-4c4f-bb2e-ac48703d6050",
   "metadata": {},
   "source": [
    "araba class ına bir obje oluşturduk"
   ]
  },
  {
   "cell_type": "code",
   "execution_count": 85,
   "id": "ab134156-d34c-42c8-bd20-0d32c333bb6b",
   "metadata": {},
   "outputs": [
    {
     "data": {
      "text/plain": [
       "'fiat'"
      ]
     },
     "execution_count": 85,
     "metadata": {},
     "output_type": "execute_result"
    }
   ],
   "source": [
    "araba1.model"
   ]
  },
  {
   "cell_type": "markdown",
   "id": "1f087a5b-2231-4bb5-9fb4-fe1d249adba5",
   "metadata": {},
   "source": [
    ". koyarak özelliklerine bakabiliriz."
   ]
  },
  {
   "cell_type": "code",
   "execution_count": 88,
   "id": "a8762eb4-eab1-49f3-9433-9e76b7ff8f24",
   "metadata": {},
   "outputs": [],
   "source": [
    "araba2=araba()"
   ]
  },
  {
   "cell_type": "code",
   "execution_count": 90,
   "id": "7018622d-23ed-4881-83c9-21a3534fa398",
   "metadata": {},
   "outputs": [
    {
     "data": {
      "text/plain": [
       "'fiat'"
      ]
     },
     "execution_count": 90,
     "metadata": {},
     "output_type": "execute_result"
    }
   ],
   "source": [
    "araba2.model"
   ]
  },
  {
   "cell_type": "markdown",
   "id": "eab33cfb-38b7-4169-be66-1ef23186c6d7",
   "metadata": {},
   "source": [
    "özellikleri aynı. farklı olması için __init() fonk. kullanılır."
   ]
  },
  {
   "cell_type": "markdown",
   "id": "058a130b-19ab-4214-90cb-a1be1b55b1a6",
   "metadata": {},
   "source": [
    "def __init__(self):"
   ]
  },
  {
   "cell_type": "code",
   "execution_count": 95,
   "id": "397b90b6-8f9d-4885-8ebc-e6f191ef50d3",
   "metadata": {},
   "outputs": [],
   "source": [
    "class araba():\n",
    "    model=\"fiat\"\n",
    "    renk=\"gümüş\"\n",
    "    beygir=110\n",
    "    silindir=4\n",
    "    def __init__(self):\n",
    "        print(\"init fonksiyonu çağırıldı\")\n",
    "    "
   ]
  },
  {
   "cell_type": "code",
   "execution_count": 97,
   "id": "fe7f9299-7fe4-4117-a697-b447cf03a3c8",
   "metadata": {},
   "outputs": [
    {
     "name": "stdout",
     "output_type": "stream",
     "text": [
      "init fonksiyonu çağırıldı\n"
     ]
    }
   ],
   "source": [
    "araba1:araba()"
   ]
  },
  {
   "cell_type": "markdown",
   "id": "bafaa3fb-f6aa-4d99-8a6b-778a0c483caf",
   "metadata": {},
   "source": [
    "SELF :anahtar kelimedir. objeyi gösteren bir referanstır ve methodlarımızda başta olması gerekir."
   ]
  },
  {
   "cell_type": "code",
   "execution_count": 118,
   "id": "798a745d-1f2b-4aa4-ae09-b24b03f13ca0",
   "metadata": {},
   "outputs": [],
   "source": [
    "class araba():\n",
    "    def __init__(self,model,renk,beygir,silindir):\n",
    "        print(\"init fonksiyonu çağırıldı\")\n",
    "        self.model=model\n",
    "        self.renk=renk\n",
    "        self.beygir= beygir\n",
    "        self.silindir=silindir"
   ]
  },
  {
   "cell_type": "code",
   "execution_count": 120,
   "id": "057f9750-c90b-4440-9a50-be51eb0556bc",
   "metadata": {},
   "outputs": [
    {
     "name": "stdout",
     "output_type": "stream",
     "text": [
      "init fonksiyonu çağırıldı\n"
     ]
    }
   ],
   "source": [
    "araba1=araba(\"fiat\",\"gümüş\",110,4)"
   ]
  },
  {
   "cell_type": "code",
   "execution_count": 122,
   "id": "7751e757-c6d6-46a8-8e14-fcd7646eb034",
   "metadata": {},
   "outputs": [
    {
     "name": "stdout",
     "output_type": "stream",
     "text": [
      "init fonksiyonu çağırıldı\n"
     ]
    }
   ],
   "source": [
    "araba2=araba(\"porsche\",\"beyaz\",90,4)"
   ]
  },
  {
   "cell_type": "code",
   "execution_count": 126,
   "id": "388e34b6-c606-427d-a4ff-c3c29e7e05b0",
   "metadata": {},
   "outputs": [
    {
     "data": {
      "text/plain": [
       "90"
      ]
     },
     "execution_count": 126,
     "metadata": {},
     "output_type": "execute_result"
    }
   ],
   "source": [
    "araba2.beygir\n"
   ]
  },
  {
   "cell_type": "code",
   "execution_count": 128,
   "id": "6bc89be0-d95b-44a2-997a-cc50c09b516b",
   "metadata": {},
   "outputs": [
    {
     "data": {
      "text/plain": [
       "110"
      ]
     },
     "execution_count": 128,
     "metadata": {},
     "output_type": "execute_result"
    }
   ],
   "source": [
    "araba1.beygir"
   ]
  },
  {
   "cell_type": "code",
   "execution_count": 173,
   "id": "267bf86e-48c8-475d-b72f-8e58b31ea629",
   "metadata": {},
   "outputs": [],
   "source": [
    "class yazılımcı():\n",
    "    def __init__(self,isim,soyisim,maaş,numara,diller):\n",
    "        self.isim=isim\n",
    "        self.soyisim=soyisim\n",
    "        self.maaş=maaş\n",
    "        self.numara=numara\n",
    "        self.diller=diller\n",
    "    def bilgilerigöster(self):\n",
    "        print(\"\"\"\n",
    "        yazılımcı objesinin özellikleri\n",
    "        isim:{}\n",
    "        soyisim:{}\n",
    "        maaş:{}\n",
    "        numara:{}\n",
    "        diller:{}\n",
    "        \"\"\".format(self.isim,self.soyisim,self.maaş,self.numara,self.diller))\n",
    "    def zam_yap(self,zam_miktarı):\n",
    "            print(\"zam yapılıyor\")\n",
    "            self.maaş +=zam_miktarı\n",
    "    def dil_ekle(self,yeni_dil):\n",
    "            print(\"dil ekleniyor\")\n",
    "            self.diller.append(yeni_dil)\n",
    "            \n",
    "        \n",
    "        \n",
    "    "
   ]
  },
  {
   "cell_type": "code",
   "execution_count": 175,
   "id": "46041b76-56d7-4ad5-9caa-5b8bcd5e667a",
   "metadata": {},
   "outputs": [],
   "source": [
    "yazılımcı=yazılımcı(\"süheyla nur\",\"yıldız\",123456,123456,[\"python\",\"C\",\"Java\"])"
   ]
  },
  {
   "cell_type": "code",
   "execution_count": 177,
   "id": "8461ecf5-67a7-44ff-9cd2-e7c862051fc7",
   "metadata": {},
   "outputs": [
    {
     "data": {
      "text/plain": [
       "<__main__.yazılımcı at 0x1fe0a6c99d0>"
      ]
     },
     "execution_count": 177,
     "metadata": {},
     "output_type": "execute_result"
    }
   ],
   "source": [
    "yazılımcı"
   ]
  },
  {
   "cell_type": "code",
   "execution_count": 179,
   "id": "2ffe0bb4-0980-4981-89fb-d1ed3d3c8718",
   "metadata": {},
   "outputs": [
    {
     "name": "stdout",
     "output_type": "stream",
     "text": [
      "\n",
      "        yazılımcı objesinin özellikleri\n",
      "        isim:süheyla nur\n",
      "        soyisim:yıldız\n",
      "        maaş:123456\n",
      "        numara:123456\n",
      "        diller:['python', 'C', 'Java']\n",
      "        \n"
     ]
    }
   ],
   "source": [
    "yazılımcı.bilgilerigöster()"
   ]
  },
  {
   "cell_type": "code",
   "execution_count": 184,
   "id": "b67339f2-db75-4da1-847a-d5cb7b4b849c",
   "metadata": {},
   "outputs": [
    {
     "name": "stdout",
     "output_type": "stream",
     "text": [
      "dil ekleniyor\n"
     ]
    }
   ],
   "source": [
    "yazılımcı.dil_ekle(\"c++\")"
   ]
  },
  {
   "cell_type": "code",
   "execution_count": 186,
   "id": "ffd7e553-02b1-47b2-a71d-39aac95438a7",
   "metadata": {},
   "outputs": [
    {
     "name": "stdout",
     "output_type": "stream",
     "text": [
      "zam yapılıyor\n"
     ]
    }
   ],
   "source": [
    "yazılımcı.zam_yap(3000)"
   ]
  },
  {
   "cell_type": "markdown",
   "id": "c8addbdb-8d1e-4318-ae66-240aa03e198b",
   "metadata": {},
   "source": [
    "yazılımcı.bilgilerigöster()"
   ]
  },
  {
   "cell_type": "markdown",
   "id": "a2af20f6-530d-43b7-9445-fdf2b75b331e",
   "metadata": {},
   "source": [
    "SELF İ UNUTMA!"
   ]
  },
  {
   "cell_type": "markdown",
   "id": "552435a9-c80d-418d-8e97-17d6812d07c9",
   "metadata": {},
   "source": [
    "INHERİTANCE : KALITIM ,METODLARI MİRAS ALMA\n"
   ]
  },
  {
   "cell_type": "code",
   "execution_count": 195,
   "id": "7ccf2e50-a150-4256-8c86-b2e2aae7e900",
   "metadata": {},
   "outputs": [],
   "source": [
    "class çalışan():\n",
    "    def __init__(self,isim,maaş,departman):\n",
    "        print(\"çalışan sınıfın init fonksiyonu\")\n",
    "        self.isim=isim\n",
    "        self.maaş=maaş\n",
    "        self.departman=departman\n",
    "    def bilgileri_göster(self):\n",
    "        print(\"bilgileri göster\")\n",
    "        print(\"isim:{}\\n maaş:{}\\n departman:{}\\n\".format(self.isim,self.maaş,self.departman))\n",
    "    def departman_değiştir(self,yeni_departman  ):  \n",
    "        self.departman=yeni_departman"
   ]
  },
  {
   "cell_type": "code",
   "execution_count": 197,
   "id": "95fa4178-45e9-472a-8812-6ca2f6e2e45b",
   "metadata": {},
   "outputs": [],
   "source": [
    "class yönetici(çalışan):\n",
    "    pass"
   ]
  },
  {
   "cell_type": "markdown",
   "id": "fd1fddea-3c28-4a67-8204-c13eb2cb0a75",
   "metadata": {},
   "source": [
    "miras olarak yöneticiye çalışan geçmiş oldu."
   ]
  },
  {
   "cell_type": "code",
   "execution_count": 202,
   "id": "f7a2a30a-9c5f-4cee-9658-c4715964370d",
   "metadata": {},
   "outputs": [
    {
     "name": "stdout",
     "output_type": "stream",
     "text": [
      "çalışan sınıfın init fonksiyonu\n"
     ]
    }
   ],
   "source": [
    "yönetici=yönetici(\"süheyla\",30000,\"bilişim\")"
   ]
  },
  {
   "cell_type": "code",
   "execution_count": 206,
   "id": "cc7eb6fc-c596-4cc8-872b-097de12436a0",
   "metadata": {},
   "outputs": [
    {
     "name": "stdout",
     "output_type": "stream",
     "text": [
      "bilgileri göster\n",
      "isim:süheyla\n",
      " maaş:30000\n",
      " departman:bilişim\n",
      "\n"
     ]
    }
   ],
   "source": [
    "yönetici.bilgileri_göster()"
   ]
  },
  {
   "cell_type": "code",
   "execution_count": 208,
   "id": "f22063b3-98fe-4a5f-86a5-b6e6b5e10e10",
   "metadata": {},
   "outputs": [],
   "source": [
    "yönetici.departman_değiştir(\"insan kaynakları\")"
   ]
  },
  {
   "cell_type": "code",
   "execution_count": 212,
   "id": "5c8db391-6a05-4158-a5fa-bdae8ba88703",
   "metadata": {},
   "outputs": [
    {
     "name": "stdout",
     "output_type": "stream",
     "text": [
      "bilgileri göster\n",
      "isim:süheyla\n",
      " maaş:30000\n",
      " departman:insan kaynakları\n",
      "\n"
     ]
    }
   ],
   "source": [
    "yönetici.bilgileri_göster()"
   ]
  },
  {
   "cell_type": "code",
   "execution_count": 214,
   "id": "670d5b64-5cc8-4db1-a9aa-250bb756c44b",
   "metadata": {},
   "outputs": [
    {
     "data": {
      "text/plain": [
       "['__class__',\n",
       " '__delattr__',\n",
       " '__dict__',\n",
       " '__dir__',\n",
       " '__doc__',\n",
       " '__eq__',\n",
       " '__format__',\n",
       " '__ge__',\n",
       " '__getattribute__',\n",
       " '__getstate__',\n",
       " '__gt__',\n",
       " '__hash__',\n",
       " '__init__',\n",
       " '__init_subclass__',\n",
       " '__le__',\n",
       " '__lt__',\n",
       " '__module__',\n",
       " '__ne__',\n",
       " '__new__',\n",
       " '__reduce__',\n",
       " '__reduce_ex__',\n",
       " '__repr__',\n",
       " '__setattr__',\n",
       " '__sizeof__',\n",
       " '__str__',\n",
       " '__subclasshook__',\n",
       " '__weakref__',\n",
       " 'bilgileri_göster',\n",
       " 'departman',\n",
       " 'departman_değiştir',\n",
       " 'isim',\n",
       " 'maaş']"
      ]
     },
     "execution_count": 214,
     "metadata": {},
     "output_type": "execute_result"
    }
   ],
   "source": [
    "dir (yönetici)"
   ]
  },
  {
   "cell_type": "code",
   "execution_count": 216,
   "id": "0a55f9f4-b552-4063-9b41-033a48dcbf56",
   "metadata": {},
   "outputs": [],
   "source": [
    "class yönetici(çalışan):\n",
    "    def zam_yap(self,zam_miktarı):\n",
    "        self.maaş+=zam_miktarı"
   ]
  },
  {
   "cell_type": "code",
   "execution_count": 218,
   "id": "2a134938-cec6-445c-b39a-09fc4deb3adc",
   "metadata": {},
   "outputs": [
    {
     "name": "stdout",
     "output_type": "stream",
     "text": [
      "çalışan sınıfın init fonksiyonu\n"
     ]
    }
   ],
   "source": [
    "yönetici=yönetici(\"ali\",5230,\"pazarlama\")"
   ]
  },
  {
   "cell_type": "code",
   "execution_count": 220,
   "id": "d864c127-d90a-45a4-81a4-4087237aa082",
   "metadata": {},
   "outputs": [],
   "source": [
    "yönetici.zam_yap(8752)"
   ]
  },
  {
   "cell_type": "code",
   "execution_count": 224,
   "id": "935889be-b9f0-43db-94e9-98eeffd8d8d0",
   "metadata": {},
   "outputs": [
    {
     "name": "stdout",
     "output_type": "stream",
     "text": [
      "bilgileri göster\n",
      "isim:ali\n",
      " maaş:13982\n",
      " departman:pazarlama\n",
      "\n"
     ]
    }
   ],
   "source": [
    "yönetici.bilgileri_göster()"
   ]
  },
  {
   "cell_type": "markdown",
   "id": "0da916f7-fd8a-411b-9887-36c7e980ca7c",
   "metadata": {},
   "source": [
    "OVERRİDİNG : MİRAS ALINAN METODLARI İPTAL ETME,KENDİ SINIFIMIZA TANIMLAMA"
   ]
  },
  {
   "cell_type": "code",
   "execution_count": 227,
   "id": "a16541ba-7e59-4d78-accd-c49221b84946",
   "metadata": {},
   "outputs": [],
   "source": [
    "class çalışan():\n",
    "    def __init__(self,isim,maaş,departman):\n",
    "        print(\"çalışan sınıfın init fonksiyonu\")\n",
    "        self.isim=isim\n",
    "        self.maaş=maaş\n",
    "        self.departman=departman\n",
    "    def bilgileri_göster(self):\n",
    "        print(\"bilgileri göster\")\n",
    "        print(\"isim:{}\\n maaş:{}\\n departman:{}\\n\".format(self.isim,self.maaş,self.departman))\n",
    "    def departman_değiştir(self,yeni_departman  ):  \n",
    "        self.departman=yeni_departman"
   ]
  },
  {
   "cell_type": "code",
   "execution_count": 293,
   "id": "5bd7a5ff-b3e1-41b0-920f-cae6350a68a7",
   "metadata": {},
   "outputs": [],
   "source": [
    "class yönetici(çalışan):\n",
    "    def __init__(self,isim,maaş,departman,kişi_sayısı):\n",
    "        print(\"yönetici sınıfının init fonksiyonu\")\n",
    "        self.isim=isim\n",
    "        self.maaş=maaş\n",
    "        self.departman=departman\n",
    "        self.kişi_sayısı= kişi_sayısı\n",
    "    def bilgileri_göster(self):\n",
    "        print(\"yönetici sınıfın bilgileri\")\n",
    "        print(\"isim:{}\\n maaş:{}\\n departman:{}\\n sorumlu kişi sayısı:\\n\".format(self.isim,self.maaş,self.departman,self.kişi_sayısı))\n",
    "        \n",
    "    def zam_yap(self,zam_miktarı):\n",
    "        self.maaş+=zam_miktarı"
   ]
  },
  {
   "cell_type": "code",
   "execution_count": 295,
   "id": "a6d7c846-e148-46a3-b9e1-c7fb1a0d937c",
   "metadata": {},
   "outputs": [
    {
     "name": "stdout",
     "output_type": "stream",
     "text": [
      "yönetici sınıfının init fonksiyonu\n"
     ]
    }
   ],
   "source": [
    "yönetici=yönetici(\"oğuz\",85623,\"bilişim\",10)"
   ]
  },
  {
   "cell_type": "code",
   "execution_count": 297,
   "id": "a7b76e66-332b-4929-a055-4ee416e5d6ce",
   "metadata": {},
   "outputs": [
    {
     "name": "stdout",
     "output_type": "stream",
     "text": [
      "yönetici sınıfın bilgileri\n",
      "isim:oğuz\n",
      " maaş:85623\n",
      " departman:bilişim\n",
      " sorumlu kişi sayısı:\n",
      "\n"
     ]
    }
   ],
   "source": [
    "yönetici.bilgileri_göster()"
   ]
  },
  {
   "cell_type": "markdown",
   "id": "be3948be-d145-464a-a7b5-8014b56e5a0b",
   "metadata": {},
   "source": [
    "SUPER ANAHTAR KELİMESİ:OVERRİDE ETTİĞİMİZ BİR METHODUN İÇİNDE AYNI ZAMANDA MİRAS ETTİĞİMİZ METHODU KULLANMAK İSTEDİĞİMİZDE KULLANILIR."
   ]
  },
  {
   "cell_type": "code",
   "execution_count": null,
   "id": "793c9723-8833-43ac-80f9-c3e0c28c1961",
   "metadata": {},
   "outputs": [],
   "source": [
    "class çalışan():\n",
    "    def __init__(self,isim,maaş,departman):\n",
    "        print(\"çalışan sınıfın init fonksiyonu\")\n",
    "        self.isim=isim\n",
    "        self.maaş=maaş\n",
    "        self.departman=departman\n",
    "    def bilgileri_göster(self):\n",
    "        print(\"bilgileri göster\")\n",
    "        print(\"isim:{}\\n maaş:{}\\n departman:{}\\n\".format(self.isim,self.maaş,self.departman))\n",
    "    def departman_değiştir(self,yeni_departman  ):  \n",
    "        self.departman=yeni_departman"
   ]
  },
  {
   "cell_type": "code",
   "execution_count": 301,
   "id": "60108b23-a49e-46e6-8935-f432fce44c1b",
   "metadata": {},
   "outputs": [],
   "source": [
    "class yönetici(çalışan):\n",
    "    def __init__(self,isim,maaş,departman,kişi_sayısı):\n",
    "        super().__init__(isim,maaş,departman)\n",
    "        print(\"yönetici sınıfının init fonksiyonu\")\n",
    "     \n",
    "        self.kişi_sayısı= kişi_sayısı\n",
    "    def bilgileri_göster(self):\n",
    "        print(\"yönetici sınıfın bilgileri\")\n",
    "        print(\"isim:{}\\n maaş:{}\\n departman:{}\\n sorumlu kişi sayısı:\\n\".format(self.isim,self.maaş,self.departman,self.kişi_sayısı))\n",
    "        \n",
    "    def zam_yap(self,zam_miktarı):\n",
    "        self.maaş+=zam_miktarı"
   ]
  },
  {
   "cell_type": "code",
   "execution_count": 303,
   "id": "4450910a-62ca-4a91-87d9-25a6c98e55e9",
   "metadata": {},
   "outputs": [
    {
     "name": "stdout",
     "output_type": "stream",
     "text": [
      "çalışan sınıfın init fonksiyonu\n",
      "yönetici sınıfının init fonksiyonu\n"
     ]
    }
   ],
   "source": [
    "yönetici=yönetici(\"oğuz\",8451,\"bilişim\",4)"
   ]
  },
  {
   "cell_type": "code",
   "execution_count": 307,
   "id": "181772b3-d775-453b-9572-d0fe23b575cb",
   "metadata": {},
   "outputs": [
    {
     "name": "stdout",
     "output_type": "stream",
     "text": [
      "yönetici sınıfın bilgileri\n",
      "isim:oğuz\n",
      " maaş:8451\n",
      " departman:bilişim\n",
      " sorumlu kişi sayısı:\n",
      "\n"
     ]
    }
   ],
   "source": [
    "yönetici.bilgileri_göster()"
   ]
  },
  {
   "cell_type": "markdown",
   "id": "09822c2b-585e-4fd6-b1e4-c8ac37e6ff33",
   "metadata": {},
   "source": [
    "SINIFLARIN ÖZEL METHODLARINI NASIL KENDİMİZ YAZARIZ"
   ]
  },
  {
   "cell_type": "code",
   "execution_count": 311,
   "id": "610c4447-0554-4568-ac05-a0f1086f3d8f",
   "metadata": {},
   "outputs": [],
   "source": [
    "class kitap():\n",
    "    pass"
   ]
  },
  {
   "cell_type": "code",
   "execution_count": 313,
   "id": "ed1e2b93-5271-4380-80ef-317c9d0d1c84",
   "metadata": {},
   "outputs": [],
   "source": [
    "kitap=kitap()"
   ]
  },
  {
   "cell_type": "code",
   "execution_count": 315,
   "id": "9e1b1efe-8553-44cc-8964-3047449b3595",
   "metadata": {},
   "outputs": [
    {
     "name": "stdout",
     "output_type": "stream",
     "text": [
      "<__main__.kitap object at 0x000001FE0A811850>\n"
     ]
    }
   ],
   "source": [
    "print(kitap)"
   ]
  },
  {
   "cell_type": "code",
   "execution_count": 317,
   "id": "b4ef4bed-9de2-4623-afef-73be587554c0",
   "metadata": {},
   "outputs": [
    {
     "ename": "TypeError",
     "evalue": "object of type 'kitap' has no len()",
     "output_type": "error",
     "traceback": [
      "\u001b[1;31m---------------------------------------------------------------------------\u001b[0m",
      "\u001b[1;31mTypeError\u001b[0m                                 Traceback (most recent call last)",
      "Cell \u001b[1;32mIn[317], line 1\u001b[0m\n\u001b[1;32m----> 1\u001b[0m \u001b[38;5;28mlen\u001b[39m(kitap)\n",
      "\u001b[1;31mTypeError\u001b[0m: object of type 'kitap' has no len()"
     ]
    }
   ],
   "source": [
    "len(kitap)"
   ]
  },
  {
   "cell_type": "code",
   "execution_count": 319,
   "id": "16b9ff09-82f8-4c9f-aeba-666494eed127",
   "metadata": {},
   "outputs": [],
   "source": [
    "del (kitap)"
   ]
  },
  {
   "cell_type": "code",
   "execution_count": 321,
   "id": "8e312fd8-d25d-49f7-b0ea-071c2a3c9997",
   "metadata": {},
   "outputs": [
    {
     "ename": "NameError",
     "evalue": "name 'kitap' is not defined",
     "output_type": "error",
     "traceback": [
      "\u001b[1;31m---------------------------------------------------------------------------\u001b[0m",
      "\u001b[1;31mNameError\u001b[0m                                 Traceback (most recent call last)",
      "Cell \u001b[1;32mIn[321], line 1\u001b[0m\n\u001b[1;32m----> 1\u001b[0m kitap\n",
      "\u001b[1;31mNameError\u001b[0m: name 'kitap' is not defined"
     ]
    }
   ],
   "source": [
    "kitap"
   ]
  },
  {
   "cell_type": "code",
   "execution_count": 323,
   "id": "ea8e725b-0290-4f99-93db-ca329fec642a",
   "metadata": {},
   "outputs": [],
   "source": [
    "class kitap():\n",
    "    def __init__(self,isim,yazar,sayfa_sayısı,tür):\n",
    "        print(\"init fonksiyonu\")\n",
    "        self.isim=isim\n",
    "        self.yazar=yazar\n",
    "        self.sayfa_sayısı=sayfa_sayısı\n",
    "        self.tür=tür"
   ]
  },
  {
   "cell_type": "code",
   "execution_count": 325,
   "id": "643676e0-1a1b-4223-8563-f7e46075e0a5",
   "metadata": {},
   "outputs": [
    {
     "name": "stdout",
     "output_type": "stream",
     "text": [
      "init fonksiyonu\n"
     ]
    }
   ],
   "source": [
    "kitap=kitap(\"vgbh\",\"bnm\",5623,\"bnm\")\n"
   ]
  },
  {
   "cell_type": "code",
   "execution_count": 327,
   "id": "4bf3eb87-2226-40ca-afb7-f7ef3a607a88",
   "metadata": {},
   "outputs": [],
   "source": [
    "class kitap():\n",
    "    def __init__(self,isim,yazar,sayfa_sayısı,tür):\n",
    "        print(\"init fonksiyonu\")\n",
    "        self.isim=isim\n",
    "        self.yazar=yazar\n",
    "        self.sayfa_sayısı=sayfa_sayısı\n",
    "        self.tür=tür\n",
    "    def __str__(self):\n",
    "        return \"isim:{}\\n yazar:{}\\n s)ayfa sayısı:{}\\n türü{}\".format(self.isim,self.yazar,self.sayfa_sayısı,self.tür)\n",
    "       "
   ]
  },
  {
   "cell_type": "code",
   "execution_count": 331,
   "id": "d47c71cd-f6f0-4957-80eb-e9435b9c2dff",
   "metadata": {},
   "outputs": [
    {
     "name": "stdout",
     "output_type": "stream",
     "text": [
      "init fonksiyonu\n"
     ]
    }
   ],
   "source": [
    "kitap=kitap(\"vgbh\",\"bnm\",5623,\"bnm\")"
   ]
  },
  {
   "cell_type": "code",
   "execution_count": 335,
   "id": "3d5003ff-829b-4975-86f7-414daf620eb7",
   "metadata": {},
   "outputs": [
    {
     "name": "stdout",
     "output_type": "stream",
     "text": [
      "isim:vgbh\n",
      " yazar:bnm\n",
      " s)ayfa sayısı:5623\n",
      " türübnm\n"
     ]
    }
   ],
   "source": [
    "print(kitap)"
   ]
  },
  {
   "cell_type": "code",
   "execution_count": null,
   "id": "8c845989-7abf-486a-bc36-79f69b19538a",
   "metadata": {},
   "outputs": [],
   "source": []
  }
 ],
 "metadata": {
  "kernelspec": {
   "display_name": "Python 3 (ipykernel)",
   "language": "python",
   "name": "python3"
  },
  "language_info": {
   "codemirror_mode": {
    "name": "ipython",
    "version": 3
   },
   "file_extension": ".py",
   "mimetype": "text/x-python",
   "name": "python",
   "nbconvert_exporter": "python",
   "pygments_lexer": "ipython3",
   "version": "3.12.7"
  }
 },
 "nbformat": 4,
 "nbformat_minor": 5
}
