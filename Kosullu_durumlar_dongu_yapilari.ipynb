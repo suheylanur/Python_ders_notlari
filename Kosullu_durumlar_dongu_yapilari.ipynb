{
 "cells": [
  {
   "cell_type": "code",
   "execution_count": 1,
   "id": "0e1c1055-f326-4117-8348-d8601156c6af",
   "metadata": {},
   "outputs": [
    {
     "data": {
      "text/plain": [
       "36"
      ]
     },
     "execution_count": 1,
     "metadata": {},
     "output_type": "execute_result"
    }
   ],
   "source": [
    "a=36.5\n",
    "int(a)"
   ]
  },
  {
   "cell_type": "code",
   "execution_count": 3,
   "id": "f9a1da5a-8901-4f28-9ae0-ab3d37a20cd4",
   "metadata": {},
   "outputs": [
    {
     "ename": "SyntaxError",
     "evalue": "invalid syntax (4118483392.py, line 1)",
     "output_type": "error",
     "traceback": [
      "\u001b[1;36m  Cell \u001b[1;32mIn[3], line 1\u001b[1;36m\u001b[0m\n\u001b[1;33m    a=36.65.41\u001b[0m\n\u001b[1;37m           ^\u001b[0m\n\u001b[1;31mSyntaxError\u001b[0m\u001b[1;31m:\u001b[0m invalid syntax\n"
     ]
    }
   ],
   "source": [
    "a=36.65.41\n",
    "int(a)"
   ]
  },
  {
   "cell_type": "code",
   "execution_count": 5,
   "id": "ecb9a41d-47e1-424e-800d-da63f306c841",
   "metadata": {},
   "outputs": [
    {
     "ename": "ValueError",
     "evalue": "invalid literal for int() with base 10: 'nhbgvdfcd'",
     "output_type": "error",
     "traceback": [
      "\u001b[1;31m---------------------------------------------------------------------------\u001b[0m",
      "\u001b[1;31mValueError\u001b[0m                                Traceback (most recent call last)",
      "Cell \u001b[1;32mIn[5], line 2\u001b[0m\n\u001b[0;32m      1\u001b[0m a\u001b[38;5;241m=\u001b[39m\u001b[38;5;124m\"\u001b[39m\u001b[38;5;124mnhbgvdfcd\u001b[39m\u001b[38;5;124m\"\u001b[39m\n\u001b[1;32m----> 2\u001b[0m \u001b[38;5;28mint\u001b[39m(a)\n",
      "\u001b[1;31mValueError\u001b[0m: invalid literal for int() with base 10: 'nhbgvdfcd'"
     ]
    }
   ],
   "source": [
    "a=\"nhbgvdfcd\"\n",
    "int(a)"
   ]
  },
  {
   "cell_type": "code",
   "execution_count": 7,
   "id": "d5297960-1c42-4cbc-a7ab-40ba86adaab7",
   "metadata": {},
   "outputs": [
    {
     "ename": "ValueError",
     "evalue": "invalid literal for int() with base 10: '8452084562.52'",
     "output_type": "error",
     "traceback": [
      "\u001b[1;31m---------------------------------------------------------------------------\u001b[0m",
      "\u001b[1;31mValueError\u001b[0m                                Traceback (most recent call last)",
      "Cell \u001b[1;32mIn[7], line 2\u001b[0m\n\u001b[0;32m      1\u001b[0m a\u001b[38;5;241m=\u001b[39m\u001b[38;5;124m\"\u001b[39m\u001b[38;5;124m8452084562.52\u001b[39m\u001b[38;5;124m\"\u001b[39m\n\u001b[1;32m----> 2\u001b[0m \u001b[38;5;28mint\u001b[39m(a)\n",
      "\u001b[1;31mValueError\u001b[0m: invalid literal for int() with base 10: '8452084562.52'"
     ]
    }
   ],
   "source": [
    "a=\"8452084562.52\"\n",
    "int(a)"
   ]
  },
  {
   "cell_type": "code",
   "execution_count": 9,
   "id": "5c9a22cd-3806-481b-b650-6d5795c5e1b6",
   "metadata": {},
   "outputs": [
    {
     "data": {
      "text/plain": [
       "523542"
      ]
     },
     "execution_count": 9,
     "metadata": {},
     "output_type": "execute_result"
    }
   ],
   "source": [
    "a=\"523542\"\n",
    "int(a)"
   ]
  },
  {
   "cell_type": "code",
   "execution_count": 11,
   "id": "17c25d9e-b7e2-4b39-a991-fb12541b858b",
   "metadata": {},
   "outputs": [
    {
     "data": {
      "text/plain": [
       "95623.96"
      ]
     },
     "execution_count": 11,
     "metadata": {},
     "output_type": "execute_result"
    }
   ],
   "source": [
    "a=\"95623.96\"\n",
    "float(a)"
   ]
  },
  {
   "cell_type": "code",
   "execution_count": 13,
   "id": "55fc91cd-f5e2-47e5-80cd-97c58d5968d6",
   "metadata": {},
   "outputs": [
    {
     "name": "stdout",
     "output_type": "stream",
     "text": [
      "ali\n"
     ]
    }
   ],
   "source": [
    "print(\"ali\")"
   ]
  },
  {
   "cell_type": "code",
   "execution_count": 15,
   "id": "efce52d8-873d-48c1-9b35-240314850398",
   "metadata": {},
   "outputs": [
    {
     "name": "stdout",
     "output_type": "stream",
     "text": [
      "452.2\n"
     ]
    }
   ],
   "source": [
    "print(452.20)"
   ]
  },
  {
   "cell_type": "code",
   "execution_count": 17,
   "id": "a01140d8-c66c-43d5-942d-33a547bdf7af",
   "metadata": {},
   "outputs": [
    {
     "ename": "SyntaxError",
     "evalue": "unexpected character after line continuation character (1320435689.py, line 1)",
     "output_type": "error",
     "traceback": [
      "\u001b[1;36m  Cell \u001b[1;32mIn[17], line 1\u001b[1;36m\u001b[0m\n\u001b[1;33m    print(\"ali\"\\n)\u001b[0m\n\u001b[1;37m                ^\u001b[0m\n\u001b[1;31mSyntaxError\u001b[0m\u001b[1;31m:\u001b[0m unexpected character after line continuation character\n"
     ]
    }
   ],
   "source": [
    "print(\"ali\"\\n)"
   ]
  },
  {
   "cell_type": "code",
   "execution_count": 19,
   "id": "903d4a5a-6599-4619-bec0-10b076696cbe",
   "metadata": {},
   "outputs": [
    {
     "name": "stdout",
     "output_type": "stream",
     "text": [
      "a l l\n"
     ]
    }
   ],
   "source": [
    "print(\"a\",\"l\",\"l\")"
   ]
  },
  {
   "cell_type": "code",
   "execution_count": 21,
   "id": "45f27f22-af73-467d-aca1-f52aeca2b87b",
   "metadata": {},
   "outputs": [
    {
     "ename": "SyntaxError",
     "evalue": "unexpected character after line continuation character (2769203031.py, line 1)",
     "output_type": "error",
     "traceback": [
      "\u001b[1;36m  Cell \u001b[1;32mIn[21], line 1\u001b[1;36m\u001b[0m\n\u001b[1;33m    print(\"a\"\\t\"l\"\\t\"l\")\u001b[0m\n\u001b[1;37m              ^\u001b[0m\n\u001b[1;31mSyntaxError\u001b[0m\u001b[1;31m:\u001b[0m unexpected character after line continuation character\n"
     ]
    }
   ],
   "source": [
    "print(\"a\"\\t\"l\"\\t\"l\")"
   ]
  },
  {
   "cell_type": "code",
   "execution_count": 23,
   "id": "c3b622bc-e64b-446a-b192-634039dfa449",
   "metadata": {},
   "outputs": [
    {
     "ename": "SyntaxError",
     "evalue": "unexpected character after line continuation character (766101706.py, line 1)",
     "output_type": "error",
     "traceback": [
      "\u001b[1;36m  Cell \u001b[1;32mIn[23], line 1\u001b[1;36m\u001b[0m\n\u001b[1;33m    print(\"a\" \\t \"l\" \\t \"l\")\u001b[0m\n\u001b[1;37m               ^\u001b[0m\n\u001b[1;31mSyntaxError\u001b[0m\u001b[1;31m:\u001b[0m unexpected character after line continuation character\n"
     ]
    }
   ],
   "source": [
    "print(\"a\" \\t \"l\" \\t \"l\")"
   ]
  },
  {
   "cell_type": "code",
   "execution_count": 25,
   "id": "bacfa397-1d8a-4531-bf20-95778ad46b70",
   "metadata": {},
   "outputs": [
    {
     "ename": "SyntaxError",
     "evalue": "unexpected character after line continuation character (220841027.py, line 1)",
     "output_type": "error",
     "traceback": [
      "\u001b[1;36m  Cell \u001b[1;32mIn[25], line 1\u001b[1;36m\u001b[0m\n\u001b[1;33m    print(\"ali\"\\t\"ali\")\u001b[0m\n\u001b[1;37m                ^\u001b[0m\n\u001b[1;31mSyntaxError\u001b[0m\u001b[1;31m:\u001b[0m unexpected character after line continuation character\n"
     ]
    }
   ],
   "source": [
    "print(\"ali\"\\t\"ali\")"
   ]
  },
  {
   "cell_type": "code",
   "execution_count": 29,
   "id": "9775d3d4-52f9-4730-8ae4-52aeded9f750",
   "metadata": {},
   "outputs": [
    {
     "ename": "SyntaxError",
     "evalue": "invalid syntax (3606590015.py, line 1)",
     "output_type": "error",
     "traceback": [
      "\u001b[1;36m  Cell \u001b[1;32mIn[29], line 1\u001b[1;36m\u001b[0m\n\u001b[1;33m    print(\"ali\",/t,\"nabe\")\u001b[0m\n\u001b[1;37m                ^\u001b[0m\n\u001b[1;31mSyntaxError\u001b[0m\u001b[1;31m:\u001b[0m invalid syntax\n"
     ]
    }
   ],
   "source": [
    "print(\"ali\",/t,\"nabe\")"
   ]
  },
  {
   "cell_type": "code",
   "execution_count": 31,
   "id": "9c907999-8e7f-405b-b94c-19fbef941e0c",
   "metadata": {
    "scrolled": true
   },
   "outputs": [
    {
     "ename": "SyntaxError",
     "evalue": "unexpected character after line continuation character (3289870908.py, line 1)",
     "output_type": "error",
     "traceback": [
      "\u001b[1;36m  Cell \u001b[1;32mIn[31], line 1\u001b[1;36m\u001b[0m\n\u001b[1;33m    print(\"ali\"\\t 9 \\t \" naber\")\u001b[0m\n\u001b[1;37m                ^\u001b[0m\n\u001b[1;31mSyntaxError\u001b[0m\u001b[1;31m:\u001b[0m unexpected character after line continuation character\n"
     ]
    }
   ],
   "source": [
    "print(\"ali\"\\t 9 \\t \" naber\")"
   ]
  },
  {
   "cell_type": "code",
   "execution_count": 41,
   "id": "16ed9ef7-2e4f-4bb0-bec7-ec07cf3a472d",
   "metadata": {},
   "outputs": [
    {
     "ename": "SyntaxError",
     "evalue": "unexpected character after line continuation character (2355893741.py, line 1)",
     "output_type": "error",
     "traceback": [
      "\u001b[1;36m  Cell \u001b[1;32mIn[41], line 1\u001b[1;36m\u001b[0m\n\u001b[1;33m    print(\"a\"\\n\"ali\")\u001b[0m\n\u001b[1;37m              ^\u001b[0m\n\u001b[1;31mSyntaxError\u001b[0m\u001b[1;31m:\u001b[0m unexpected character after line continuation character\n"
     ]
    }
   ],
   "source": [
    "print(\"a\"\\n\"ali\")"
   ]
  },
  {
   "cell_type": "code",
   "execution_count": 45,
   "id": "32f977b2-67a8-4bcd-9a64-77ccfcabd22e",
   "metadata": {},
   "outputs": [
    {
     "name": "stdout",
     "output_type": "stream",
     "text": [
      "3.4.5\n"
     ]
    }
   ],
   "source": [
    "print(3,4,5,sep=\".\")"
   ]
  },
  {
   "cell_type": "code",
   "execution_count": 49,
   "id": "51efec9f-4b00-496f-980f-cb1637514975",
   "metadata": {},
   "outputs": [
    {
     "name": "stdout",
     "output_type": "stream",
     "text": [
      "06/04/2015\n"
     ]
    }
   ],
   "source": [
    "print(\"06\",\"04\",\"2015\",sep=\"/\")"
   ]
  },
  {
   "cell_type": "code",
   "execution_count": 51,
   "id": "996f5717-54f6-47b1-8846-5c9f746fa898",
   "metadata": {},
   "outputs": [
    {
     "name": "stdout",
     "output_type": "stream",
     "text": [
      "a\tb\tc\n"
     ]
    }
   ],
   "source": [
    "print(\"a\",\"b\",\"c\",sep=\"\\t\")"
   ]
  },
  {
   "cell_type": "code",
   "execution_count": 53,
   "id": "3155ed0d-3194-4767-91e6-10cfa89626b8",
   "metadata": {},
   "outputs": [
    {
     "name": "stdout",
     "output_type": "stream",
     "text": [
      "a\n",
      "b\n",
      "c\n"
     ]
    }
   ],
   "source": [
    "print(\"a\",\"b\",\"c\",sep=\"\\n\")"
   ]
  },
  {
   "cell_type": "code",
   "execution_count": 55,
   "id": "71bbcab3-eaad-4d31-8883-0949b084deac",
   "metadata": {},
   "outputs": [
    {
     "name": "stdout",
     "output_type": "stream",
     "text": [
      "a b c\n"
     ]
    }
   ],
   "source": [
    "print(*\"abc\")"
   ]
  },
  {
   "cell_type": "code",
   "execution_count": 63,
   "id": "e7b8d48f-7a4c-405a-ada0-3ec24f4a5fec",
   "metadata": {},
   "outputs": [
    {
     "name": "stdout",
     "output_type": "stream",
     "text": [
      "a.b.c\n"
     ]
    }
   ],
   "source": [
    "print(*\"abc\",sep=\".\")"
   ]
  },
  {
   "cell_type": "code",
   "execution_count": 65,
   "id": "ef0d37d2-7e9a-47fd-b053-7793cf8d3dd3",
   "metadata": {},
   "outputs": [],
   "source": [
    "a=3"
   ]
  },
  {
   "cell_type": "code",
   "execution_count": 67,
   "id": "7fed2bc5-760e-4b75-a99d-94916d9ac89d",
   "metadata": {},
   "outputs": [],
   "source": [
    "b=4"
   ]
  },
  {
   "cell_type": "code",
   "execution_count": 79,
   "id": "96f43fcb-7520-4401-81a7-a884a5dc8b9a",
   "metadata": {},
   "outputs": [
    {
     "name": "stdout",
     "output_type": "stream",
     "text": [
      "3 + 4'nn toplmaı 7 'dır.\n"
     ]
    }
   ],
   "source": [
    "print(\"{} + {}'nn toplmaı {} 'dır.\".format(a,b,a+b) )"
   ]
  },
  {
   "cell_type": "code",
   "execution_count": 99,
   "id": "a0ec417a-7ed5-4edc-8313-d809c68fea2f",
   "metadata": {},
   "outputs": [
    {
     "name": "stdout",
     "output_type": "stream",
     "text": [
      "bhdc 5 bh\n"
     ]
    }
   ],
   "source": [
    "print(\"{1} {3} {0}\".format(\"bh\",\"bhdc\",\"vejnc\",5,))"
   ]
  },
  {
   "cell_type": "code",
   "execution_count": 95,
   "id": "bec16f4b-2810-4482-809c-fa0d58ce73f2",
   "metadata": {},
   "outputs": [
    {
     "name": "stdout",
     "output_type": "stream",
     "text": [
      "{1} {0} {2}\n"
     ]
    }
   ],
   "source": [
    "print(\"{1} {0} {2}\")"
   ]
  },
  {
   "cell_type": "code",
   "execution_count": 97,
   "id": "94c67260-baaf-4016-93d6-b80ae47dbe75",
   "metadata": {},
   "outputs": [
    {
     "name": "stdout",
     "output_type": "stream",
     "text": [
      "bfd 43 56\n"
     ]
    }
   ],
   "source": [
    "print(\"{1} {0} {2}\" .format(43,\"bfd\",56))"
   ]
  },
  {
   "cell_type": "code",
   "execution_count": 2,
   "id": "c273ec67-ecae-49ea-a441-b93fb81f69e0",
   "metadata": {},
   "outputs": [
    {
     "data": {
      "text/plain": [
       "23"
      ]
     },
     "execution_count": 2,
     "metadata": {},
     "output_type": "execute_result"
    }
   ],
   "source": [
    "abs(-23)"
   ]
  },
  {
   "cell_type": "markdown",
   "id": "3ea24331-fd64-4d4f-a190-eb16dccc7d5c",
   "metadata": {},
   "source": [
    "mutlak değer verir"
   ]
  },
  {
   "cell_type": "code",
   "execution_count": 5,
   "id": "dd6c567e-d6d9-4d9e-8dfe-40d841f2c755",
   "metadata": {},
   "outputs": [
    {
     "data": {
      "text/plain": [
       "'0b10100111001110111'"
      ]
     },
     "execution_count": 5,
     "metadata": {},
     "output_type": "execute_result"
    }
   ],
   "source": [
    "bin(85623)"
   ]
  },
  {
   "cell_type": "markdown",
   "id": "536aabac-3f2e-4839-ae4c-aec847d5ab2c",
   "metadata": {},
   "source": [
    "binary gösterimi"
   ]
  },
  {
   "cell_type": "code",
   "execution_count": 9,
   "id": "a4640a08-0ca2-4a78-b798-85e26e8982f2",
   "metadata": {},
   "outputs": [
    {
     "ename": "NameError",
     "evalue": "name 'degrees' is not defined",
     "output_type": "error",
     "traceback": [
      "\u001b[1;31m---------------------------------------------------------------------------\u001b[0m",
      "\u001b[1;31mNameError\u001b[0m                                 Traceback (most recent call last)",
      "Cell \u001b[1;32mIn[9], line 1\u001b[0m\n\u001b[1;32m----> 1\u001b[0m degrees(\u001b[38;5;241m523\u001b[39m)\n",
      "\u001b[1;31mNameError\u001b[0m: name 'degrees' is not defined"
     ]
    }
   ],
   "source": [
    "degrees(523)"
   ]
  },
  {
   "cell_type": "code",
   "execution_count": 23,
   "id": "2f5b0ac1-aac0-42a7-9c41-b5f85e27da0c",
   "metadata": {},
   "outputs": [
    {
     "name": "stdout",
     "output_type": "stream",
     "text": [
      "2 büyüktür 1 değerinden\n"
     ]
    }
   ],
   "source": [
    "a=1\n",
    "b=2\n",
    "if a>b:\n",
    "    print(a,\"büyüktür\",b,\"değerinden\")\n",
    "if b>a:\n",
    "    print(b,\"büyüktür\",a,\"değerinden\")"
   ]
  },
  {
   "cell_type": "code",
   "execution_count": 29,
   "id": "05840941-f36c-4cf1-9f96-49202c0bbfb7",
   "metadata": {},
   "outputs": [
    {
     "name": "stdout",
     "output_type": "stream",
     "text": [
      "4\n",
      "8\n",
      "9\n",
      "6\n",
      "bsvdzxc\n",
      "[1, 2, 5, 5, 'bfvsd']\n"
     ]
    }
   ],
   "source": [
    "liste1=[1,2,5,5,\"bfvsd\"]\n",
    "liste2=[4,8,9,6,\"bsvdzxc\",liste1]\n",
    "for n in liste2:\n",
    "    print(n)"
   ]
  },
  {
   "cell_type": "code",
   "execution_count": 37,
   "id": "ae40992c-a3e5-4d0f-af3e-30ed03ebf691",
   "metadata": {},
   "outputs": [
    {
     "name": "stdout",
     "output_type": "stream",
     "text": [
      "0\n",
      "1\n",
      "2\n",
      "3\n",
      "4\n"
     ]
    }
   ],
   "source": [
    "i=0\n",
    "while i<5:\n",
    "    print(i)\n",
    "    i+=1"
   ]
  },
  {
   "cell_type": "code",
   "execution_count": 39,
   "id": "f86eec51-d117-4503-b4ea-983a6627e1de",
   "metadata": {},
   "outputs": [
    {
     "name": "stdout",
     "output_type": "stream",
     "text": [
      "8\n",
      "6\n",
      "4\n",
      "2\n",
      "0\n",
      "-2\n",
      "-4\n",
      "-6\n",
      "-8\n"
     ]
    }
   ],
   "source": [
    "i=8\n",
    "while i>=-8:\n",
    "    print(i)\n",
    "    i-=2"
   ]
  },
  {
   "cell_type": "code",
   "execution_count": null,
   "id": "73b300e7-e93c-4e13-8025-5a74e57b8912",
   "metadata": {},
   "outputs": [],
   "source": [
    "i=0\n",
    "while True:\n",
    "    print(i)\n",
    "    i+=1\n",
    "    if i>2:\n",
    "        break\n",
    "    "
   ]
  },
  {
   "cell_type": "markdown",
   "id": "4968d5aa-8cf4-4123-8386-acb2e4ca563b",
   "metadata": {},
   "source": [
    "while True sonsuz döngü o yüzden if le döngüyü kırdık."
   ]
  },
  {
   "cell_type": "code",
   "execution_count": 55,
   "id": "fcd22f92-6917-4492-8ab7-c1b3dfaff6b6",
   "metadata": {},
   "outputs": [
    {
     "name": "stdout",
     "output_type": "stream",
     "text": [
      "1\n",
      "3\n",
      "5\n",
      "7\n",
      "9\n"
     ]
    }
   ],
   "source": [
    "i=0\n",
    "while True:\n",
    "    i+=1\n",
    "    if i %2==0:\n",
    "        continue\n",
    "    elif i>10:\n",
    "        break\n",
    "    else:\n",
    "        print(i)\n",
    "  "
   ]
  },
  {
   "cell_type": "code",
   "execution_count": 57,
   "id": "222226e7-8840-4973-b7d8-ad30f99160a3",
   "metadata": {},
   "outputs": [
    {
     "data": {
      "text/plain": [
       "range(0, 11)"
      ]
     },
     "execution_count": 57,
     "metadata": {},
     "output_type": "execute_result"
    }
   ],
   "source": [
    "range(11)"
   ]
  },
  {
   "cell_type": "code",
   "execution_count": 100,
   "id": "7c6dff6c-3530-4c26-907c-34ce5aecc3a5",
   "metadata": {},
   "outputs": [
    {
     "name": "stdout",
     "output_type": "stream",
     "text": [
      "sanada günaydın\n"
     ]
    }
   ],
   "source": [
    "\n",
    "\n",
    "def printEt(selam):\n",
    "     print(selam)\n",
    "\n",
    "printEt(selam=\"sanada günaydın\")\n",
    "    \n",
    "    \n",
    "\n",
    "    "
   ]
  },
  {
   "cell_type": "code",
   "execution_count": 144,
   "id": "1f07740f-f29a-456a-9714-e61ced0abc45",
   "metadata": {},
   "outputs": [
    {
     "name": "stdout",
     "output_type": "stream",
     "text": [
      "------------------------------\n",
      "adı: sny\n",
      "ŞEHRİ: antalya\n",
      "------------------------------\n",
      "ŞEHRİ: antalya\n",
      "------------------------------\n"
     ]
    },
    {
     "ename": "TypeError",
     "evalue": "ne() missing 1 required positional argument: 'kent'",
     "output_type": "error",
     "traceback": [
      "\u001b[1;31m---------------------------------------------------------------------------\u001b[0m",
      "\u001b[1;31mTypeError\u001b[0m                                 Traceback (most recent call last)",
      "Cell \u001b[1;32mIn[144], line 11\u001b[0m\n\u001b[0;32m      9\u001b[0m \u001b[38;5;28mprint\u001b[39m(\u001b[38;5;124m\"\u001b[39m\u001b[38;5;124m-\u001b[39m\u001b[38;5;124m\"\u001b[39m\u001b[38;5;241m*\u001b[39m\u001b[38;5;241m30\u001b[39m)\n\u001b[0;32m     10\u001b[0m ne(ad\u001b[38;5;241m=\u001b[39m\u001b[38;5;124m\"\u001b[39m\u001b[38;5;124msny\u001b[39m\u001b[38;5;124m\"\u001b[39m,kent\u001b[38;5;241m=\u001b[39m\u001b[38;5;124m\"\u001b[39m\u001b[38;5;124mantalya\u001b[39m\u001b[38;5;124m\"\u001b[39m)\n\u001b[1;32m---> 11\u001b[0m ne(ad\u001b[38;5;241m=\u001b[39m\u001b[38;5;124m\"\u001b[39m\u001b[38;5;124mali\u001b[39m\u001b[38;5;124m\"\u001b[39m)\n\u001b[0;32m     12\u001b[0m \u001b[38;5;28mprint\u001b[39m(\u001b[38;5;124m\"\u001b[39m\u001b[38;5;124m-\u001b[39m\u001b[38;5;124m\"\u001b[39m\u001b[38;5;241m*\u001b[39m\u001b[38;5;241m30\u001b[39m)\n\u001b[0;32m     13\u001b[0m ney(ad\u001b[38;5;241m=\u001b[39m\u001b[38;5;124m\"\u001b[39m\u001b[38;5;124mezgi\u001b[39m\u001b[38;5;124m\"\u001b[39m,kent\u001b[38;5;241m=\u001b[39m\u001b[38;5;124m\"\u001b[39m\u001b[38;5;124mısparta\u001b[39m\u001b[38;5;124m\"\u001b[39m)\n",
      "\u001b[1;31mTypeError\u001b[0m: ne() missing 1 required positional argument: 'kent'"
     ]
    }
   ],
   "source": [
    "def ne(ad,kent):\n",
    "    print(\"adı:\",ad)\n",
    "    print(\"ŞEHRİ:\",kent)\n",
    "    print(\"-\"*30)\n",
    "    def ney(ad,kent):\n",
    "         print(\"adı:\",ad)\n",
    "    print(\"ŞEHRİ:\",kent)\n",
    "    print(\"-\"*30)\n",
    "print(\"-\"*30)\n",
    "ne(ad=\"sny\",kent=\"antalya\")\n",
    "ne(ad=\"ali\")\n",
    "print(\"-\"*30)\n",
    "ney(ad=\"ezgi\",kent=\"ısparta\")\n",
    "    "
   ]
  },
  {
   "cell_type": "code",
   "execution_count": 2,
   "id": "95465a0e-673b-40aa-b2af-507f30cc4770",
   "metadata": {},
   "outputs": [
    {
     "data": {
      "text/plain": [
       "list"
      ]
     },
     "execution_count": 2,
     "metadata": {},
     "output_type": "execute_result"
    }
   ],
   "source": [
    "liste=[\"elma\",\"muz\",3,5,2]\n",
    "type(liste)"
   ]
  },
  {
   "cell_type": "code",
   "execution_count": 4,
   "id": "983cb065-72b0-474f-b70f-c96ec5548e47",
   "metadata": {},
   "outputs": [
    {
     "data": {
      "text/plain": [
       "5"
      ]
     },
     "execution_count": 4,
     "metadata": {},
     "output_type": "execute_result"
    }
   ],
   "source": [
    "len(liste)"
   ]
  },
  {
   "cell_type": "code",
   "execution_count": 6,
   "id": "f15ff3bd-9844-499f-96c6-a52ab326cc7e",
   "metadata": {},
   "outputs": [
    {
     "data": {
      "text/plain": [
       "list['mrb']"
      ]
     },
     "execution_count": 6,
     "metadata": {},
     "output_type": "execute_result"
    }
   ],
   "source": [
    "liste=list[\"mrb\"]\n",
    "liste"
   ]
  },
  {
   "cell_type": "code",
   "execution_count": 10,
   "id": "c0f1fd8c-ce11-47cc-a975-46d589066348",
   "metadata": {},
   "outputs": [
    {
     "data": {
      "text/plain": [
       "1"
      ]
     },
     "execution_count": 10,
     "metadata": {},
     "output_type": "execute_result"
    }
   ],
   "source": [
    "liste=[5,8,8,1]\n",
    "liste[3]"
   ]
  },
  {
   "cell_type": "code",
   "execution_count": 12,
   "id": "9d77bebb-8ba6-4d01-9e1a-3987c0893054",
   "metadata": {},
   "outputs": [
    {
     "data": {
      "text/plain": [
       "[5, 8, 8]"
      ]
     },
     "execution_count": 12,
     "metadata": {},
     "output_type": "execute_result"
    }
   ],
   "source": [
    "liste[:3]"
   ]
  },
  {
   "cell_type": "code",
   "execution_count": 14,
   "id": "ec434cd0-312e-4160-b68b-422a6bc291a4",
   "metadata": {},
   "outputs": [
    {
     "data": {
      "text/plain": [
       "[1, 2, 3, 3, 4, 5]"
      ]
     },
     "execution_count": 14,
     "metadata": {},
     "output_type": "execute_result"
    }
   ],
   "source": [
    "liste1=[1,2,3]\n",
    "liste2=[3,4,5]\n",
    "liste1+liste2"
   ]
  },
  {
   "cell_type": "code",
   "execution_count": 16,
   "id": "ebc1176f-2636-4570-87fe-baf1d557aada",
   "metadata": {},
   "outputs": [
    {
     "data": {
      "text/plain": [
       "5"
      ]
     },
     "execution_count": 16,
     "metadata": {},
     "output_type": "execute_result"
    }
   ],
   "source": [
    "liste2[2]"
   ]
  },
  {
   "cell_type": "code",
   "execution_count": 18,
   "id": "af54133e-5d92-46ea-ad3a-0783dfc43ecd",
   "metadata": {},
   "outputs": [
    {
     "data": {
      "text/plain": [
       "[1, 2, 3, 1, 2, 3, 1, 2, 3]"
      ]
     },
     "execution_count": 18,
     "metadata": {},
     "output_type": "execute_result"
    }
   ],
   "source": [
    "liste1*3"
   ]
  },
  {
   "cell_type": "code",
   "execution_count": 22,
   "id": "eb392bcc-8f02-4120-990f-ddb781e5f47e",
   "metadata": {},
   "outputs": [
    {
     "data": {
      "text/plain": [
       "[1, 2, 3]"
      ]
     },
     "execution_count": 22,
     "metadata": {},
     "output_type": "execute_result"
    }
   ],
   "source": [
    "liste1"
   ]
  },
  {
   "cell_type": "code",
   "execution_count": 24,
   "id": "4effa871-7908-47ec-8130-21b65e5c082a",
   "metadata": {},
   "outputs": [
    {
     "data": {
      "text/plain": [
       "[1, 2, 3, 1, 2, 3, 1, 2, 3]"
      ]
     },
     "execution_count": 24,
     "metadata": {},
     "output_type": "execute_result"
    }
   ],
   "source": [
    "liste1=liste1*3\n",
    "liste1"
   ]
  },
  {
   "cell_type": "markdown",
   "id": "d1d1983e-359d-4b0f-9d64-85254d62e186",
   "metadata": {},
   "source": [
    "append methodu ekleme"
   ]
  },
  {
   "cell_type": "code",
   "execution_count": 31,
   "id": "ebf5a74d-4df3-4ba2-a6aa-30aaa7e52914",
   "metadata": {},
   "outputs": [
    {
     "data": {
      "text/plain": [
       "[58, 78, 62, 7]"
      ]
     },
     "execution_count": 31,
     "metadata": {},
     "output_type": "execute_result"
    }
   ],
   "source": [
    "liste=[58,78,62]\n",
    "liste.append(7)\n",
    "liste"
   ]
  },
  {
   "cell_type": "markdown",
   "id": "78e37de7-06fb-4bcf-bed3-0cb144a1cd39",
   "metadata": {},
   "source": [
    "pop methodu eleman atma değer vermezsek son elemanı atar"
   ]
  },
  {
   "cell_type": "code",
   "execution_count": 34,
   "id": "aca19a13-dc4b-4635-bfa3-f22b0bd66970",
   "metadata": {},
   "outputs": [
    {
     "data": {
      "text/plain": [
       "7"
      ]
     },
     "execution_count": 34,
     "metadata": {},
     "output_type": "execute_result"
    }
   ],
   "source": [
    "liste=[\"mrb\",45,8,7,]\n",
    "liste.pop()"
   ]
  },
  {
   "cell_type": "code",
   "execution_count": 36,
   "id": "d77a93c3-6e17-4c8e-a206-0e2162aca3dd",
   "metadata": {},
   "outputs": [
    {
     "data": {
      "text/plain": [
       "8"
      ]
     },
     "execution_count": 36,
     "metadata": {},
     "output_type": "execute_result"
    }
   ],
   "source": [
    "liste.pop(2)"
   ]
  },
  {
   "cell_type": "code",
   "execution_count": 38,
   "id": "5fb577ea-2b9c-4bf2-9697-0c6b8c58db74",
   "metadata": {},
   "outputs": [
    {
     "data": {
      "text/plain": [
       "['mrb', 45]"
      ]
     },
     "execution_count": 38,
     "metadata": {},
     "output_type": "execute_result"
    }
   ],
   "source": [
    "liste"
   ]
  },
  {
   "cell_type": "markdown",
   "id": "4fe16234-8124-4916-a4ae-0cc3d5a442d6",
   "metadata": {},
   "source": [
    "sort methodu listenin elemanlarını sıralarız"
   ]
  },
  {
   "cell_type": "code",
   "execution_count": 49,
   "id": "4713b2eb-12cc-4e56-bcb8-9aa53176049d",
   "metadata": {},
   "outputs": [
    {
     "data": {
      "text/plain": [
       "[1, 45, 124, 785421]"
      ]
     },
     "execution_count": 49,
     "metadata": {},
     "output_type": "execute_result"
    }
   ],
   "source": [
    "liste=[1,45,785421,124]\n",
    "liste.sort()\n",
    "liste"
   ]
  },
  {
   "cell_type": "code",
   "execution_count": 53,
   "id": "a52e0e03-5cb9-4378-a086-329f433adebd",
   "metadata": {},
   "outputs": [
    {
     "data": {
      "text/plain": [
       "[785421, 124, 45, 1]"
      ]
     },
     "execution_count": 53,
     "metadata": {},
     "output_type": "execute_result"
    }
   ],
   "source": [
    "liste.sort(reverse=True)\n",
    "liste"
   ]
  },
  {
   "cell_type": "code",
   "execution_count": 61,
   "id": "a7aae132-74dd-4d36-a9ca-98c60e6bc5a9",
   "metadata": {},
   "outputs": [
    {
     "ename": "TypeError",
     "evalue": "'<' not supported between instances of 'str' and 'int'",
     "output_type": "error",
     "traceback": [
      "\u001b[1;31m---------------------------------------------------------------------------\u001b[0m",
      "\u001b[1;31mTypeError\u001b[0m                                 Traceback (most recent call last)",
      "Cell \u001b[1;32mIn[61], line 2\u001b[0m\n\u001b[0;32m      1\u001b[0m liste1\u001b[38;5;241m=\u001b[39m[\u001b[38;5;241m45\u001b[39m,\u001b[38;5;241m8\u001b[39m,\u001b[38;5;241m7\u001b[39m,\u001b[38;5;124m\"\u001b[39m\u001b[38;5;124mgvbh\u001b[39m\u001b[38;5;124m\"\u001b[39m]\n\u001b[1;32m----> 2\u001b[0m liste1\u001b[38;5;241m.\u001b[39msort()\n\u001b[0;32m      3\u001b[0m liste1\n",
      "\u001b[1;31mTypeError\u001b[0m: '<' not supported between instances of 'str' and 'int'"
     ]
    }
   ],
   "source": [
    "liste1=[45,8,7,\"gvbh\"]\n",
    "liste1.sort()\n",
    "liste1"
   ]
  },
  {
   "cell_type": "code",
   "execution_count": 65,
   "id": "733865fa-b11d-4428-8cb2-46c84d0cf133",
   "metadata": {},
   "outputs": [
    {
     "data": {
      "text/plain": [
       "tuple"
      ]
     },
     "execution_count": 65,
     "metadata": {},
     "output_type": "execute_result"
    }
   ],
   "source": [
    "demet=(7,8,9,)\n",
    "type(demet)"
   ]
  },
  {
   "cell_type": "code",
   "execution_count": 67,
   "id": "0077a25b-2d11-484c-8f3f-1eb1b1fe34a7",
   "metadata": {},
   "outputs": [
    {
     "data": {
      "text/plain": [
       "1"
      ]
     },
     "execution_count": 67,
     "metadata": {},
     "output_type": "execute_result"
    }
   ],
   "source": [
    "demet=(1,8,5,8)\n",
    "demet.index(8)"
   ]
  },
  {
   "cell_type": "code",
   "execution_count": 69,
   "id": "a1145291-4f86-49f9-8049-6477d4acdd33",
   "metadata": {},
   "outputs": [
    {
     "data": {
      "text/plain": [
       "2"
      ]
     },
     "execution_count": 69,
     "metadata": {},
     "output_type": "execute_result"
    }
   ],
   "source": [
    "demet.count(8)"
   ]
  },
  {
   "cell_type": "code",
   "execution_count": 73,
   "id": "0a92277f-0703-4bf7-9160-0c234c812816",
   "metadata": {},
   "outputs": [
    {
     "ename": "TypeError",
     "evalue": "'tuple' object does not support item assignment",
     "output_type": "error",
     "traceback": [
      "\u001b[1;31m---------------------------------------------------------------------------\u001b[0m",
      "\u001b[1;31mTypeError\u001b[0m                                 Traceback (most recent call last)",
      "Cell \u001b[1;32mIn[73], line 1\u001b[0m\n\u001b[1;32m----> 1\u001b[0m demet[\u001b[38;5;241m1\u001b[39m]\u001b[38;5;241m=\u001b[39m\u001b[38;5;241m10\u001b[39m\n\u001b[0;32m      2\u001b[0m demet\n",
      "\u001b[1;31mTypeError\u001b[0m: 'tuple' object does not support item assignment"
     ]
    }
   ],
   "source": [
    "demet[1]=10\n",
    "demet"
   ]
  },
  {
   "cell_type": "markdown",
   "id": "27f31371-6849-4034-98ad-18ab6851c3b3",
   "metadata": {},
   "source": [
    "DEMETLER DEĞİŞTİRİLEMEZ"
   ]
  },
  {
   "cell_type": "code",
   "execution_count": 3,
   "id": "72a160a0-5f8b-4238-9d30-a9f535355bf4",
   "metadata": {},
   "outputs": [],
   "source": [
    "sözlük1={\"bir\":1,\"iki\":2}"
   ]
  },
  {
   "cell_type": "code",
   "execution_count": 5,
   "id": "4dcdf092-9b5a-4e65-b838-98bc50a66155",
   "metadata": {},
   "outputs": [
    {
     "data": {
      "text/plain": [
       "{'bir': 1, 'iki': 2}"
      ]
     },
     "execution_count": 5,
     "metadata": {},
     "output_type": "execute_result"
    }
   ],
   "source": [
    "sözlük1"
   ]
  },
  {
   "cell_type": "code",
   "execution_count": 9,
   "id": "c602a9ad-2d55-48ca-b02c-c72a1feefa5c",
   "metadata": {},
   "outputs": [
    {
     "data": {
      "text/plain": [
       "1"
      ]
     },
     "execution_count": 9,
     "metadata": {},
     "output_type": "execute_result"
    }
   ],
   "source": [
    "sözlük1[\"bir\"]"
   ]
  },
  {
   "cell_type": "code",
   "execution_count": 11,
   "id": "697d9de9-3ba9-4f50-9a36-0ecc2b3785fd",
   "metadata": {},
   "outputs": [
    {
     "name": "stdin",
     "output_type": "stream",
     "text": [
      "sayı giriniz: 45\n"
     ]
    },
    {
     "data": {
      "text/plain": [
       "'45'"
      ]
     },
     "execution_count": 11,
     "metadata": {},
     "output_type": "execute_result"
    }
   ],
   "source": [
    "input(\"sayı giriniz:\")"
   ]
  },
  {
   "cell_type": "code",
   "execution_count": 15,
   "id": "f2307277-24b1-4cc0-b3a3-b26285683c49",
   "metadata": {},
   "outputs": [
    {
     "name": "stdin",
     "output_type": "stream",
     "text": [
      "sayı giriniz: 32\n"
     ]
    },
    {
     "name": "stdout",
     "output_type": "stream",
     "text": [
      "girdiğiniz sayı: 32\n"
     ]
    }
   ],
   "source": [
    "a=input(\"sayı giriniz:\")\n",
    "print(\"girdiğiniz sayı:\",a)"
   ]
  },
  {
   "cell_type": "code",
   "execution_count": 19,
   "id": "5ad96aa3-e4c1-4d62-9b1e-f5ad66417b6e",
   "metadata": {},
   "outputs": [
    {
     "name": "stdin",
     "output_type": "stream",
     "text": [
      "anne yaş: 38\n",
      "baba yaş: 38\n",
      "kardeş yaş: 12\n"
     ]
    },
    {
     "name": "stdout",
     "output_type": "stream",
     "text": [
      "ailenin yaşları toplamı: 383812\n"
     ]
    }
   ],
   "source": [
    "a=input(\"anne yaş:\")\n",
    "b=input(\"baba yaş:\")\n",
    "c=input(\"kardeş yaş:\")\n",
    "print(\"ailenin yaşları toplamı:\",a+b+c)"
   ]
  },
  {
   "cell_type": "markdown",
   "id": "def37014-0af6-41f4-8bcf-e460cec390f3",
   "metadata": {},
   "source": [
    "toplamını vermedi çünkü string şeklinde integera çevirmen lazım."
   ]
  },
  {
   "cell_type": "code",
   "execution_count": 24,
   "id": "fc76d02a-3bf1-4612-b1af-6764333a76e0",
   "metadata": {},
   "outputs": [
    {
     "name": "stdin",
     "output_type": "stream",
     "text": [
      "anne yaş: 85\n",
      "baba yaş: 58\n",
      "kardeş yaş: 58\n"
     ]
    },
    {
     "name": "stdout",
     "output_type": "stream",
     "text": [
      "ailenin yaşları toplamı: 201\n"
     ]
    }
   ],
   "source": [
    "a=int(input(\"anne yaş:\"))\n",
    "b=int(input(\"baba yaş:\"))\n",
    "c=int(input(\"kardeş yaş:\"))A\n",
    "print(\"ailenin yaşları toplamı:\",a+b+c)"
   ]
  },
  {
   "cell_type": "code",
   "execution_count": 4,
   "id": "988e1d33-2731-4965-8309-b5d21b0b3938",
   "metadata": {},
   "outputs": [
    {
     "data": {
      "text/plain": [
       "bool"
      ]
     },
     "execution_count": 4,
     "metadata": {},
     "output_type": "execute_result"
    }
   ],
   "source": [
    "a= True \n",
    "type(a)"
   ]
  },
  {
   "cell_type": "code",
   "execution_count": 8,
   "id": "2be42d3e-4382-46f5-9887-64d5e50a49f8",
   "metadata": {},
   "outputs": [
    {
     "data": {
      "text/plain": [
       "True"
      ]
     },
     "execution_count": 8,
     "metadata": {},
     "output_type": "execute_result"
    }
   ],
   "source": [
    "bool(5.85)"
   ]
  },
  {
   "cell_type": "code",
   "execution_count": 10,
   "id": "606d0783-0652-4904-9c0a-dfbcab164cf4",
   "metadata": {},
   "outputs": [
    {
     "data": {
      "text/plain": [
       "False"
      ]
     },
     "execution_count": 10,
     "metadata": {},
     "output_type": "execute_result"
    }
   ],
   "source": [
    "\"mehmet\"==432"
   ]
  },
  {
   "cell_type": "code",
   "execution_count": 16,
   "id": "863d9486-f881-49f9-a883-3d39b7963faf",
   "metadata": {},
   "outputs": [
    {
     "data": {
      "text/plain": [
       "True"
      ]
     },
     "execution_count": 16,
     "metadata": {},
     "output_type": "execute_result"
    }
   ],
   "source": [
    "\"ali\"==\"ali\""
   ]
  },
  {
   "cell_type": "code",
   "execution_count": 18,
   "id": "9e48c10c-361c-45c1-8a39-37e8c25a40fd",
   "metadata": {},
   "outputs": [
    {
     "data": {
      "text/plain": [
       "True"
      ]
     },
     "execution_count": 18,
     "metadata": {},
     "output_type": "execute_result"
    }
   ],
   "source": [
    "3<=5"
   ]
  },
  {
   "cell_type": "code",
   "execution_count": 20,
   "id": "8085b535-420d-4112-8a2d-3edce19caa4b",
   "metadata": {},
   "outputs": [
    {
     "data": {
      "text/plain": [
       "True"
      ]
     },
     "execution_count": 20,
     "metadata": {},
     "output_type": "execute_result"
    }
   ],
   "source": [
    "1<4 and \"ali\"==\"ali\""
   ]
  },
  {
   "cell_type": "code",
   "execution_count": 24,
   "id": "b8395f00-97fe-4354-93ef-de5c3ddb7d62",
   "metadata": {},
   "outputs": [
    {
     "data": {
      "text/plain": [
       "False"
      ]
     },
     "execution_count": 24,
     "metadata": {},
     "output_type": "execute_result"
    }
   ],
   "source": [
    " not 1<2 and \"ali\"==\"ali\"or 1>3 "
   ]
  },
  {
   "cell_type": "code",
   "execution_count": 43,
   "id": "3324fb39-f15d-49e3-8dd9-1d64ed752eae",
   "metadata": {},
   "outputs": [
    {
     "name": "stdout",
     "output_type": "stream",
     "text": [
      "7\n"
     ]
    }
   ],
   "source": [
    "a=3\n",
    "\n",
    "c=4\n",
    "print(a+c)"
   ]
  },
  {
   "cell_type": "code",
   "execution_count": 45,
   "id": "de94a774-f6d5-423c-baca-da060d9a2231",
   "metadata": {},
   "outputs": [
    {
     "data": {
      "text/plain": [
       "3"
      ]
     },
     "execution_count": 45,
     "metadata": {},
     "output_type": "execute_result"
    }
   ],
   "source": [
    "a"
   ]
  },
  {
   "cell_type": "code",
   "execution_count": 59,
   "id": "2d6002a1-fdf8-45d9-bbf8-4059b8f3765f",
   "metadata": {},
   "outputs": [
    {
     "name": "stdin",
     "output_type": "stream",
     "text": [
      "yaş 1\n"
     ]
    },
    {
     "name": "stdout",
     "output_type": "stream",
     "text": [
      "tekrar giriniz\n"
     ]
    }
   ],
   "source": [
    "yaş= int(input(\"yaş\"))\n",
    "if (yaş<18):\n",
    "    print(\"tekrar giriniz\")\n"
   ]
  },
  {
   "cell_type": "code",
   "execution_count": 61,
   "id": "f5f91c71-d964-4854-aaa4-460ae8462cb1",
   "metadata": {},
   "outputs": [
    {
     "name": "stdin",
     "output_type": "stream",
     "text": [
      "yaş 18\n"
     ]
    },
    {
     "name": "stdout",
     "output_type": "stream",
     "text": [
      "hoşgeldiniz\n"
     ]
    }
   ],
   "source": [
    "yaş= int(input(\"yaş\"))\n",
    "if (yaş<18):\n",
    "    print(\"tekrar giriniz\")\n",
    "else:\n",
    "    print(\"hoşgeldiniz\")"
   ]
  },
  {
   "cell_type": "code",
   "execution_count": 77,
   "id": "d8831818-96b9-4a2c-9b2a-a0c72d9cefe8",
   "metadata": {},
   "outputs": [
    {
     "ename": "IndentationError",
     "evalue": "unexpected indent (1426414088.py, line 6)",
     "output_type": "error",
     "traceback": [
      "\u001b[1;36m  Cell \u001b[1;32mIn[77], line 6\u001b[1;36m\u001b[0m\n\u001b[1;33m    else:\u001b[0m\n\u001b[1;37m    ^\u001b[0m\n\u001b[1;31mIndentationError\u001b[0m\u001b[1;31m:\u001b[0m unexpected indent\n"
     ]
    }
   ],
   "source": [
    "note= float(input(\"notunuzu giriniz\"))\n",
    "if note>=90:\n",
    "    print(\"tebrikler\")\n",
    "elif note <=45:\n",
    "     print(\"daha iyi çalışmalısın\")\n",
    "      else:\n",
    "print(\"kaldınız\")"
   ]
  },
  {
   "cell_type": "code",
   "execution_count": 79,
   "id": "012c2eb4-6986-4777-b806-f2a0b65c3491",
   "metadata": {},
   "outputs": [
    {
     "name": "stdin",
     "output_type": "stream",
     "text": [
      "Birinci sayı: 4\n"
     ]
    }
   ],
   "source": [
    " a = int(input(\"Birinci sayı:\"))"
   ]
  },
  {
   "cell_type": "markdown",
   "id": "1dafa049-375e-4f00-8c4f-024bcd3738cb",
   "metadata": {},
   "source": [
    "# a = int(input(\"Birinci sayı:\"))\n",
    "b = int(input(\"ikinci sayı:\"))\n",
    "islem= input(\"işlemi giriniz\")\n",
    "if islem==\"1\":\n",
    "    print(\" {}ile {} in toplamı {} dir.\".format(a,b,a+b))\n",
    "elif islem == \"2\":\n",
    "        print(\" {}ile {} in toplamı {} dir.\". format(a, b, a - b))"
   ]
  },
  {
   "cell_type": "code",
   "execution_count": 93,
   "id": "c198ff01-b243-4f57-a3a5-42b3a07f18ef",
   "metadata": {},
   "outputs": [
    {
     "name": "stdin",
     "output_type": "stream",
     "text": [
      "Birinci sayı: 45\n",
      "ikinci sayı: 75\n",
      "işlemi giriniz 1\n"
     ]
    },
    {
     "name": "stdout",
     "output_type": "stream",
     "text": [
      " 45ile 75 in toplamı 120 dir.\n"
     ]
    }
   ],
   "source": [
    " a = int(input(\"Birinci sayı:\"))\n",
    "b = int(input(\"ikinci sayı:\"))\n",
    "islem= input(\"işlemi giriniz\")\n",
    "if islem==\"1\":\n",
    "    print(\" {}ile {} in toplamı {} dir.\".format(a,b,a+b))\n",
    "elif islem == \"2\":\n",
    "        print(\" {}ile {} in toplamı {} dir.\".format(a, b, a - b))\n",
    "    "
   ]
  },
  {
   "cell_type": "markdown",
   "id": "d37cbe5b-359c-448c-853d-3734fe90be3f",
   "metadata": {},
   "source": [
    "in operatörü (bir elemanın başka lşsitede veya demet veya stringte bulunup bulunmadığını kontrol eder.)"
   ]
  },
  {
   "cell_type": "code",
   "execution_count": 7,
   "id": "bcdcad15-dc1a-475f-9130-b0a9077c9e04",
   "metadata": {},
   "outputs": [
    {
     "data": {
      "text/plain": [
       "True"
      ]
     },
     "execution_count": 7,
     "metadata": {},
     "output_type": "execute_result"
    }
   ],
   "source": [
    "\"a\" in \"merhaba\""
   ]
  },
  {
   "cell_type": "code",
   "execution_count": 9,
   "id": "2b1d8183-4773-47c3-82a6-bb42d64b5f57",
   "metadata": {},
   "outputs": [
    {
     "data": {
      "text/plain": [
       "False"
      ]
     },
     "execution_count": 9,
     "metadata": {},
     "output_type": "execute_result"
    }
   ],
   "source": [
    "\"a\" in \"merh\""
   ]
  },
  {
   "cell_type": "code",
   "execution_count": 11,
   "id": "6697a187-8438-4f6b-84e6-a2e6bd80090c",
   "metadata": {},
   "outputs": [
    {
     "data": {
      "text/plain": [
       "False"
      ]
     },
     "execution_count": 11,
     "metadata": {},
     "output_type": "execute_result"
    }
   ],
   "source": [
    "4 in [1,2]"
   ]
  },
  {
   "cell_type": "code",
   "execution_count": 13,
   "id": "007e3029-3fd3-4231-b764-15fa3b18a5d4",
   "metadata": {},
   "outputs": [
    {
     "data": {
      "text/plain": [
       "False"
      ]
     },
     "execution_count": 13,
     "metadata": {},
     "output_type": "execute_result"
    }
   ],
   "source": [
    "4 in (1,2)"
   ]
  },
  {
   "cell_type": "code",
   "execution_count": 15,
   "id": "5398ab89-1c25-42f8-8d38-67b53526dec4",
   "metadata": {},
   "outputs": [
    {
     "data": {
      "text/plain": [
       "True"
      ]
     },
     "execution_count": 15,
     "metadata": {},
     "output_type": "execute_result"
    }
   ],
   "source": [
    "not 4 in (1,2)"
   ]
  },
  {
   "cell_type": "markdown",
   "id": "1f715c48-f133-40e0-ba43-7430c5ca934c",
   "metadata": {},
   "source": [
    "for döngüsü: listelerin demetlerin stringlerin ve hatta sözlüklerin üzerinde dolaşmamızı sağlayan operatör."
   ]
  },
  {
   "cell_type": "markdown",
   "id": "2c2a93ff-efa9-46cd-858d-fe3a8b873642",
   "metadata": {},
   "source": [
    "for eleman in veri_yapısı(liste,demet vs):\n",
    "   yapılacak işlemler"
   ]
  },
  {
   "cell_type": "code",
   "execution_count": 21,
   "id": "39204b28-c9b9-487f-9cfe-fb8873a81001",
   "metadata": {},
   "outputs": [
    {
     "name": "stdout",
     "output_type": "stream",
     "text": [
      "eleman 1\n",
      "eleman 2\n",
      "eleman 3\n",
      "eleman 4\n",
      "eleman 5\n"
     ]
    }
   ],
   "source": [
    "for eleman in liste:\n",
    "    print(\"eleman\",eleman)\n"
   ]
  },
  {
   "cell_type": "code",
   "execution_count": 19,
   "id": "01012ae1-8aab-4d3b-93ac-c00833d22cd5",
   "metadata": {},
   "outputs": [
    {
     "name": "stdout",
     "output_type": "stream",
     "text": [
      "toplam:0 eleman:1\n",
      "1\n",
      "toplam:1 eleman:2\n",
      "3\n",
      "toplam:3 eleman:3\n",
      "6\n",
      "toplam:6 eleman:4\n",
      "10\n",
      "toplam:10 eleman:5\n",
      "15\n"
     ]
    }
   ],
   "source": [
    "liste=[1,2,3,4,5,]\n",
    "toplam=0\n",
    "for eleman in liste:\n",
    "    print(\"toplam:{} eleman:{}\".format(toplam,eleman))\n",
    "    toplam=toplam+eleman\n",
    "    print(toplam)"
   ]
  },
  {
   "cell_type": "code",
   "execution_count": 55,
   "id": "8f9e01be-e4f5-4756-b2ce-c014a7b230e0",
   "metadata": {},
   "outputs": [
    {
     "name": "stdout",
     "output_type": "stream",
     "text": [
      "2\n",
      "4\n",
      "78\n"
     ]
    }
   ],
   "source": [
    "liste=[1,2,3,4,5,78]\n",
    "for eleman in liste:\n",
    "    if eleman %2==0:\n",
    "     print(eleman)\n"
   ]
  },
  {
   "cell_type": "code",
   "execution_count": 63,
   "id": "b87d837e-2938-42eb-ace4-a48a18cd5877",
   "metadata": {},
   "outputs": [
    {
     "name": "stdout",
     "output_type": "stream",
     "text": [
      "28\n"
     ]
    }
   ],
   "source": [
    "liste = [2,1,10,2,23,1,56,3]\n",
    " \n",
    "total = 0\n",
    "for i in liste:\n",
    "    if (not (i % 2 == 0)):\n",
    "        total +=i\n",
    " \n",
    "print(total)"
   ]
  },
  {
   "cell_type": "markdown",
   "id": "0837f9a8-37ec-4b17-ba1e-773a1a058a6a",
   "metadata": {},
   "source": [
    "while döngüsü:belirli bir durum gerçekleşiyorsa tekrar tekrar çalıştırır."
   ]
  },
  {
   "cell_type": "code",
   "execution_count": null,
   "id": "31d8268c-aa5c-4243-8975-2d03c4ba12aa",
   "metadata": {},
   "outputs": [],
   "source": [
    "i=0\n",
    " while(i<20):\n",
    "   print(\"i nin değeri:\",i)\n",
    "     i+=2"
   ]
  },
  {
   "cell_type": "code",
   "execution_count": null,
   "id": "124d6cc5-329b-4464-85ac-ab796cb204ad",
   "metadata": {},
   "outputs": [],
   "source": [
    "a=0\n",
    "while(a<10):\n",
    "    print(\"roket\")\n",
    "    a+=1\n",
    "    "
   ]
  },
  {
   "cell_type": "code",
   "execution_count": null,
   "id": "952f99b6-7bdb-44f2-b041-a14efdf06e58",
   "metadata": {},
   "outputs": [],
   "source": [
    "index=0\n",
    "while("
   ]
  }
 ],
 "metadata": {
  "kernelspec": {
   "display_name": "Python 3 (ipykernel)",
   "language": "python",
   "name": "python3"
  },
  "language_info": {
   "codemirror_mode": {
    "name": "ipython",
    "version": 3
   },
   "file_extension": ".py",
   "mimetype": "text/x-python",
   "name": "python",
   "nbconvert_exporter": "python",
   "pygments_lexer": "ipython3",
   "version": "3.12.7"
  }
 },
 "nbformat": 4,
 "nbformat_minor": 5
}
