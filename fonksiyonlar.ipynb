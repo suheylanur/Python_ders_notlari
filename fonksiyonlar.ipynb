{
 "cells": [
  {
   "cell_type": "markdown",
   "id": "8ef43c4d-66aa-4e05-8d6e-af921e4c999e",
   "metadata": {},
   "source": [
    "metodlar: bir obje üzerinde belli işlemleri gerçekleştiren fonksiyonlardır.\n",
    "obje.metdod(değerler(opsiyonel))"
   ]
  },
  {
   "cell_type": "code",
   "execution_count": 2,
   "id": "58a6aca9-2d1b-411b-8964-3b8d9100ddcf",
   "metadata": {},
   "outputs": [],
   "source": [
    "a=[1,2,3,4,5]"
   ]
  },
  {
   "cell_type": "code",
   "execution_count": 4,
   "id": "34b9b833-4b7b-4760-a657-0dd6ff72ffbf",
   "metadata": {},
   "outputs": [
    {
     "data": {
      "text/plain": [
       "list"
      ]
     },
     "execution_count": 4,
     "metadata": {},
     "output_type": "execute_result"
    }
   ],
   "source": [
    "type(a)"
   ]
  },
  {
   "cell_type": "code",
   "execution_count": 6,
   "id": "099cce46-a22b-455e-8aa3-e00e781b3462",
   "metadata": {},
   "outputs": [],
   "source": [
    "a.insert(1,\"sny\")"
   ]
  },
  {
   "cell_type": "code",
   "execution_count": 8,
   "id": "59b4c078-5511-460b-9d02-6e4e8c25135f",
   "metadata": {},
   "outputs": [
    {
     "data": {
      "text/plain": [
       "[1, 'sny', 2, 3, 4, 5]"
      ]
     },
     "execution_count": 8,
     "metadata": {},
     "output_type": "execute_result"
    }
   ],
   "source": [
    "a"
   ]
  },
  {
   "cell_type": "code",
   "execution_count": 10,
   "id": "b5737f8d-ad75-4bb7-b015-82873b4b5c88",
   "metadata": {},
   "outputs": [],
   "source": [
    "a.append(\"myt\")"
   ]
  },
  {
   "cell_type": "code",
   "execution_count": 12,
   "id": "51d1cce6-9558-4da7-ae1f-7152b869699f",
   "metadata": {},
   "outputs": [
    {
     "data": {
      "text/plain": [
       "[1, 'sny', 2, 3, 4, 5, 'myt']"
      ]
     },
     "execution_count": 12,
     "metadata": {},
     "output_type": "execute_result"
    }
   ],
   "source": [
    "a"
   ]
  },
  {
   "cell_type": "code",
   "execution_count": 14,
   "id": "2b178983-8e01-419e-981a-32b3e440e35e",
   "metadata": {},
   "outputs": [
    {
     "data": {
      "text/plain": [
       "'myt'"
      ]
     },
     "execution_count": 14,
     "metadata": {},
     "output_type": "execute_result"
    }
   ],
   "source": [
    "a.pop()"
   ]
  },
  {
   "cell_type": "code",
   "execution_count": 16,
   "id": "d4cde25b-48cf-4887-a55b-5a73a4b920ac",
   "metadata": {},
   "outputs": [
    {
     "data": {
      "text/plain": [
       "[1, 'sny', 2, 3, 4, 5]"
      ]
     },
     "execution_count": 16,
     "metadata": {},
     "output_type": "execute_result"
    }
   ],
   "source": [
    "a"
   ]
  },
  {
   "cell_type": "markdown",
   "id": "308dd570-3576-47a9-b9bf-8625aed0a609",
   "metadata": {},
   "source": [
    "pop metodu sonuncuyu listeden çıkardı."
   ]
  },
  {
   "cell_type": "code",
   "execution_count": 19,
   "id": "c543f401-6c89-4595-b8b2-28d4638d5b30",
   "metadata": {},
   "outputs": [
    {
     "data": {
      "text/plain": [
       "'sny'"
      ]
     },
     "execution_count": 19,
     "metadata": {},
     "output_type": "execute_result"
    }
   ],
   "source": [
    "a.pop(1)\n"
   ]
  },
  {
   "cell_type": "code",
   "execution_count": 21,
   "id": "f3cea359-3b2c-437d-b987-ea22ee26a2fb",
   "metadata": {},
   "outputs": [
    {
     "data": {
      "text/plain": [
       "[1, 2, 3, 4, 5]"
      ]
     },
     "execution_count": 21,
     "metadata": {},
     "output_type": "execute_result"
    }
   ],
   "source": [
    "a"
   ]
  },
  {
   "cell_type": "code",
   "execution_count": 23,
   "id": "016f8968-2596-4f23-8e5a-e59f5c529dbb",
   "metadata": {},
   "outputs": [
    {
     "name": "stdout",
     "output_type": "stream",
     "text": [
      "Help on built-in function append:\n",
      "\n",
      "append(object, /) method of builtins.list instance\n",
      "    Append object to the end of the list.\n",
      "\n"
     ]
    }
   ],
   "source": [
    "help(a.append)"
   ]
  },
  {
   "cell_type": "markdown",
   "id": "f212498d-dbc7-4831-ac1e-13730b673fda",
   "metadata": {},
   "source": [
    "help kullanarak ne işe yaradığını öğrnebilirsin."
   ]
  },
  {
   "cell_type": "markdown",
   "id": "dbecd9d7-e1c7-4649-802d-d23ad913f76a",
   "metadata": {},
   "source": [
    "FONKSİYONLAR"
   ]
  },
  {
   "cell_type": "code",
   "execution_count": 29,
   "id": "7161f7bd-b694-447f-aacf-011ff11d8c47",
   "metadata": {},
   "outputs": [],
   "source": [
    "def selamla():\n",
    "    print(\"mrb\")"
   ]
  },
  {
   "cell_type": "code",
   "execution_count": 31,
   "id": "2572a479-3fbb-4923-947f-60c53a0b6953",
   "metadata": {},
   "outputs": [
    {
     "data": {
      "text/plain": [
       "function"
      ]
     },
     "execution_count": 31,
     "metadata": {},
     "output_type": "execute_result"
    }
   ],
   "source": [
    "type(selamla)"
   ]
  },
  {
   "cell_type": "markdown",
   "id": "dd9ddc32-df0c-4329-8848-59a360ae3eb7",
   "metadata": {},
   "source": [
    "fonksiyonu tanımladıktan sonra (def) kullanmamız gerek yoksa göremeyiz"
   ]
  },
  {
   "cell_type": "code",
   "execution_count": 34,
   "id": "10c1b878-b2c0-408b-bf57-1387272c532b",
   "metadata": {},
   "outputs": [
    {
     "name": "stdout",
     "output_type": "stream",
     "text": [
      "mrb\n"
     ]
    }
   ],
   "source": [
    "selamla()"
   ]
  },
  {
   "cell_type": "code",
   "execution_count": 36,
   "id": "3a042fea-4af4-498a-8227-18bf0a8d1633",
   "metadata": {},
   "outputs": [],
   "source": [
    "def selamla(isim):\n",
    "    print(\"isim:\",isim)"
   ]
  },
  {
   "cell_type": "code",
   "execution_count": 40,
   "id": "20ebe138-0f7f-453e-9983-d160616f5349",
   "metadata": {},
   "outputs": [
    {
     "name": "stdout",
     "output_type": "stream",
     "text": [
      "isim: ali\n"
     ]
    }
   ],
   "source": [
    "selamla(\"ali\")"
   ]
  },
  {
   "cell_type": "code",
   "execution_count": 46,
   "id": "de0fa965-30d0-4b3c-93dd-c52c6e84b0c8",
   "metadata": {},
   "outputs": [],
   "source": [
    "def toplama(a,b,c):\n",
    "    print(\"toplamları:\",a+b+c)"
   ]
  },
  {
   "cell_type": "code",
   "execution_count": 48,
   "id": "c56419c6-63a2-479c-b561-a22fa2120fc9",
   "metadata": {},
   "outputs": [
    {
     "name": "stdout",
     "output_type": "stream",
     "text": [
      "toplamları: 22\n"
     ]
    }
   ],
   "source": [
    "toplama(5,8,9)"
   ]
  },
  {
   "cell_type": "code",
   "execution_count": 86,
   "id": "50507ba3-33f8-4081-9fac-3b6354311cd7",
   "metadata": {},
   "outputs": [],
   "source": [
    "def faktoriyel(sayı):\n",
    "    faktoriyel=1\n",
    "    if (sayı==0 or sayı==1):\n",
    "        print(\"faktoriyel:\",faktoriyel)\n",
    "    else:\n",
    "        while (sayı>=1):\n",
    "            faktoriyel*=sayı\n",
    "            sayı-=1\n",
    "        print(faktoriyel)\n",
    "        "
   ]
  },
  {
   "cell_type": "code",
   "execution_count": 88,
   "id": "5059e583-bfd1-4552-b95f-7152c74726ae",
   "metadata": {},
   "outputs": [
    {
     "name": "stdout",
     "output_type": "stream",
     "text": [
      "faktoriyel: 1\n"
     ]
    }
   ],
   "source": [
    "faktoriyel(1)"
   ]
  },
  {
   "cell_type": "code",
   "execution_count": 90,
   "id": "6f70427a-4db7-407d-93c7-21dde01c79de",
   "metadata": {},
   "outputs": [
    {
     "name": "stdout",
     "output_type": "stream",
     "text": [
      "120\n"
     ]
    }
   ],
   "source": [
    "faktoriyel(5)"
   ]
  },
  {
   "cell_type": "markdown",
   "id": "6fc9919e-6491-4f3c-9998-35d1c63e06e1",
   "metadata": {},
   "source": [
    "FONKSİYONLARDA RETURN:değer döndürmemizi sağlar."
   ]
  },
  {
   "cell_type": "code",
   "execution_count": 97,
   "id": "d6517869-665d-46bb-b3f9-4cd2d8e13518",
   "metadata": {},
   "outputs": [],
   "source": [
    "def toplama(a,b,c):\n",
    "   print(\"toplamları\",a+b+c)    \n",
    "    "
   ]
  },
  {
   "cell_type": "code",
   "execution_count": 103,
   "id": "baf52662-3c80-457d-bb88-8f3ddf00b89e",
   "metadata": {},
   "outputs": [],
   "source": [
    "def ikiyleçarp(a):\n",
    "    print(\"ikiyle çarp\",a*2)"
   ]
  },
  {
   "cell_type": "code",
   "execution_count": 105,
   "id": "13e80e63-cb4b-497c-a73f-a1ef0f340e3e",
   "metadata": {},
   "outputs": [
    {
     "name": "stdout",
     "output_type": "stream",
     "text": [
      "toplamları 12\n"
     ]
    },
    {
     "ename": "TypeError",
     "evalue": "unsupported operand type(s) for *: 'NoneType' and 'int'",
     "output_type": "error",
     "traceback": [
      "\u001b[1;31m---------------------------------------------------------------------------\u001b[0m",
      "\u001b[1;31mTypeError\u001b[0m                                 Traceback (most recent call last)",
      "Cell \u001b[1;32mIn[105], line 2\u001b[0m\n\u001b[0;32m      1\u001b[0m toplam\u001b[38;5;241m=\u001b[39m toplama(\u001b[38;5;241m3\u001b[39m,\u001b[38;5;241m4\u001b[39m,\u001b[38;5;241m5\u001b[39m)\n\u001b[1;32m----> 2\u001b[0m ikiyleçarp(toplam)\n",
      "Cell \u001b[1;32mIn[103], line 2\u001b[0m, in \u001b[0;36mikiyleçarp\u001b[1;34m(a)\u001b[0m\n\u001b[0;32m      1\u001b[0m \u001b[38;5;28;01mdef\u001b[39;00m \u001b[38;5;21mikiyleçarp\u001b[39m(a):\n\u001b[1;32m----> 2\u001b[0m     \u001b[38;5;28mprint\u001b[39m(\u001b[38;5;124m\"\u001b[39m\u001b[38;5;124mikiyle çarp\u001b[39m\u001b[38;5;124m\"\u001b[39m,a\u001b[38;5;241m*\u001b[39m\u001b[38;5;241m2\u001b[39m)\n",
      "\u001b[1;31mTypeError\u001b[0m: unsupported operand type(s) for *: 'NoneType' and 'int'"
     ]
    }
   ],
   "source": [
    "toplam= toplama(3,4,5)\n",
    "ikiyleçarp(toplam)"
   ]
  },
  {
   "cell_type": "code",
   "execution_count": 107,
   "id": "c282ffd0-f11e-4684-a567-561528884933",
   "metadata": {},
   "outputs": [],
   "source": [
    "def toplama(a,b,c):\n",
    "    return a+b+c\n",
    "def     ikiyleçarp(a):\n",
    "    return a*2"
   ]
  },
  {
   "cell_type": "code",
   "execution_count": 109,
   "id": "1b0eb1d1-5ba5-46f7-a044-606d7a3dd64c",
   "metadata": {},
   "outputs": [
    {
     "name": "stdout",
     "output_type": "stream",
     "text": [
      "24\n"
     ]
    }
   ],
   "source": [
    "toplam= toplama(3,4,5)\n",
    "print(ikiyleçarp(toplam))"
   ]
  },
  {
   "cell_type": "code",
   "execution_count": 119,
   "id": "ff3dbf42-e1fb-490f-91c9-1fc4e0e70811",
   "metadata": {},
   "outputs": [],
   "source": [
    "def selamla(isim=\"isimsiz\"):\n",
    "    print (\"selam\",isim)"
   ]
  },
  {
   "cell_type": "code",
   "execution_count": 121,
   "id": "548d8587-26f9-4d57-97c2-b89e0aa5e89a",
   "metadata": {},
   "outputs": [
    {
     "name": "stdout",
     "output_type": "stream",
     "text": [
      "selam isimsiz\n"
     ]
    }
   ],
   "source": [
    "selamla()"
   ]
  },
  {
   "cell_type": "markdown",
   "id": "c76bcab5-86f8-4587-a1df-d300fdeeb317",
   "metadata": {},
   "source": [
    "GLOBAL VE YEREL DEĞİŞKENLER\n",
    "LOCAL DEĞİŞKENLER:Fonksiyonlarda tanımlanan değişkenler\n",
    "GLOBAL DEĞİŞKENLER:En genel kapsama sahip değişkenler."
   ]
  },
  {
   "cell_type": "code",
   "execution_count": 5,
   "id": "ce638e3e-65c8-42f1-bb19-8471b4bc16ca",
   "metadata": {},
   "outputs": [
    {
     "name": "stdout",
     "output_type": "stream",
     "text": [
      "10\n"
     ]
    },
    {
     "ename": "NameError",
     "evalue": "name 'a' is not defined",
     "output_type": "error",
     "traceback": [
      "\u001b[1;31m---------------------------------------------------------------------------\u001b[0m",
      "\u001b[1;31mNameError\u001b[0m                                 Traceback (most recent call last)",
      "Cell \u001b[1;32mIn[5], line 5\u001b[0m\n\u001b[0;32m      3\u001b[0m     \u001b[38;5;28mprint\u001b[39m(a)\n\u001b[0;32m      4\u001b[0m fonksiyon()\n\u001b[1;32m----> 5\u001b[0m \u001b[38;5;28mprint\u001b[39m(a)\n",
      "\u001b[1;31mNameError\u001b[0m: name 'a' is not defined"
     ]
    }
   ],
   "source": [
    "def fonksiyon():\n",
    "    a =10\n",
    "    print(a)\n",
    "fonksiyon()\n",
    "print(a)\n",
    "    \n"
   ]
  },
  {
   "cell_type": "code",
   "execution_count": 13,
   "id": "5fd49937-e4f5-4c67-9c47-0a04434ebf6b",
   "metadata": {},
   "outputs": [
    {
     "name": "stdout",
     "output_type": "stream",
     "text": [
      "5\n"
     ]
    }
   ],
   "source": [
    "b=5\n",
    "def fonksiyon():\n",
    "  print(b)\n",
    "fonksiyon()"
   ]
  },
  {
   "cell_type": "markdown",
   "id": "3e3fa55e-280c-418b-a988-89f71633d8e3",
   "metadata": {},
   "source": [
    "üstteki yerel bir altı global olduğu için hata vermedi."
   ]
  },
  {
   "cell_type": "code",
   "execution_count": 16,
   "id": "be6f1c12-18f7-4b50-8786-106d95a2e1dd",
   "metadata": {},
   "outputs": [
    {
     "name": "stdout",
     "output_type": "stream",
     "text": [
      "2\n",
      "10\n"
     ]
    }
   ],
   "source": [
    "c=10\n",
    "def fonksiyon():\n",
    "    c=2\n",
    "    print(c)\n",
    "fonksiyon()\n",
    "print(c)"
   ]
  },
  {
   "cell_type": "markdown",
   "id": "52cad974-bc77-4a6a-aa67-d9bbb562f6aa",
   "metadata": {},
   "source": [
    "GLOBALDE TANIMLANMIŞ BİR DEĞERİ KULLANMA:"
   ]
  },
  {
   "cell_type": "code",
   "execution_count": 19,
   "id": "bc9cfabb-0f87-4860-82f6-91e3cc8b090b",
   "metadata": {},
   "outputs": [
    {
     "name": "stdout",
     "output_type": "stream",
     "text": [
      "3\n",
      "3\n"
     ]
    }
   ],
   "source": [
    "d=5\n",
    "def fonksiyon():\n",
    "    global d\n",
    "    d=3\n",
    "    print(d)\n",
    "fonksiyon()\n",
    "print(d)\n",
    "    \n",
    "    "
   ]
  },
  {
   "cell_type": "markdown",
   "id": "94c6793b-b83a-4aa0-ae43-afd87f3c2948",
   "metadata": {},
   "source": [
    "FONKSİYONUN İÇİNDEKİ DEĞİŞKENLER LOCAL DEĞİŞKEN OLARAK ADLANDIRILIR."
   ]
  },
  {
   "cell_type": "code",
   "execution_count": 26,
   "id": "f8579299-6e3f-429f-9dcc-6c1f90bcfda4",
   "metadata": {},
   "outputs": [
    {
     "name": "stdout",
     "output_type": "stream",
     "text": [
      "4\n",
      "4\n"
     ]
    }
   ],
   "source": [
    "if True:\n",
    "    e=4\n",
    "    print(e)\n",
    "print(e)    \n",
    "    "
   ]
  },
  {
   "cell_type": "markdown",
   "id": "90b85884-4ec3-43c5-b677-d49b33f0e9a0",
   "metadata": {},
   "source": [
    "GLOBAL OLMASI İÇİN EN SOLA TEKRAR YAZIYORUZ."
   ]
  },
  {
   "cell_type": "markdown",
   "id": "9f0bfb2e-5483-4d0c-b4db-7d7c6cd26c83",
   "metadata": {},
   "source": [
    "LAMBDA İFADELERİ:\n",
    "etiket= parametre1,parametre2....:işlem"
   ]
  },
  {
   "cell_type": "code",
   "execution_count": 37,
   "id": "3ad0e432-3830-4f80-ba65-5b1cab9964b6",
   "metadata": {},
   "outputs": [
    {
     "name": "stdout",
     "output_type": "stream",
     "text": [
      "[2, 4, 6, 8, 10]\n"
     ]
    }
   ],
   "source": [
    "liste=[1,2,3,4,5]\n",
    "liste2=[i*2 for i in liste]\n",
    "print (liste2)"
   ]
  },
  {
   "cell_type": "code",
   "execution_count": 41,
   "id": "376abca5-549e-415b-9152-f1c7e4697086",
   "metadata": {},
   "outputs": [
    {
     "name": "stdout",
     "output_type": "stream",
     "text": [
      "6\n"
     ]
    }
   ],
   "source": [
    "def ikiyleçarp(x):\n",
    "    return x*2\n",
    "print(ikiyleçarp(3))    \n",
    "    "
   ]
  },
  {
   "cell_type": "code",
   "execution_count": 43,
   "id": "3eddd34d-c703-45a2-9976-7e08c81fdbb7",
   "metadata": {},
   "outputs": [],
   "source": [
    "ikiyleçarp= lambda x:x*2"
   ]
  },
  {
   "cell_type": "code",
   "execution_count": 47,
   "id": "b0a30b39-ad87-4ce0-b61b-e3c861eeb917",
   "metadata": {},
   "outputs": [
    {
     "name": "stdout",
     "output_type": "stream",
     "text": [
      "8\n"
     ]
    }
   ],
   "source": [
    "print(ikiyleçarp(4))"
   ]
  },
  {
   "cell_type": "markdown",
   "id": "4d390036-0204-4dce-9289-c38d588f6e59",
   "metadata": {},
   "source": [
    "LAMBDA SAYESİNDE TEK SATIRDA YAPMIŞ OLDUK."
   ]
  },
  {
   "cell_type": "code",
   "execution_count": 53,
   "id": "cc152aff-81eb-437e-9af4-0c7237cc5af5",
   "metadata": {},
   "outputs": [
    {
     "name": "stdout",
     "output_type": "stream",
     "text": [
      "15\n"
     ]
    }
   ],
   "source": [
    "def toplam(x,y,z):\n",
    "    return x+y+z\n",
    "print(toplam(2,5,8))   "
   ]
  },
  {
   "cell_type": "code",
   "execution_count": 55,
   "id": "3309af12-f423-41fe-bd51-3b7873a5b574",
   "metadata": {},
   "outputs": [],
   "source": [
    "toplam=lambda x,y,z:x+y+z\n"
   ]
  },
  {
   "cell_type": "code",
   "execution_count": 57,
   "id": "460caa3a-5212-42fb-8fec-e25bf1928a96",
   "metadata": {},
   "outputs": [
    {
     "name": "stdout",
     "output_type": "stream",
     "text": [
      "15\n"
     ]
    }
   ],
   "source": [
    "print(toplam(2,5,8))"
   ]
  },
  {
   "cell_type": "code",
   "execution_count": 61,
   "id": "f997abc9-024e-4779-955e-ca9068540338",
   "metadata": {},
   "outputs": [
    {
     "name": "stdout",
     "output_type": "stream",
     "text": [
      "ila\n"
     ]
    }
   ],
   "source": [
    "def terscevir(s):\n",
    "    return s[::-1]\n",
    "print(terscevir(\"ali\"))   \n",
    "    "
   ]
  },
  {
   "cell_type": "code",
   "execution_count": 63,
   "id": "c3009088-a95d-4353-b801-cb072bbf87f7",
   "metadata": {},
   "outputs": [
    {
     "name": "stdout",
     "output_type": "stream",
     "text": [
      "ila\n"
     ]
    }
   ],
   "source": [
    "terscevir=lambda s: s[::-1]\n",
    "print(terscevir(\"ali\"))"
   ]
  },
  {
   "cell_type": "code",
   "execution_count": null,
   "id": "ea256ee2-c2ea-42d3-942b-3ab4aec4a810",
   "metadata": {},
   "outputs": [],
   "source": []
  }
 ],
 "metadata": {
  "kernelspec": {
   "display_name": "Python 3 (ipykernel)",
   "language": "python",
   "name": "python3"
  },
  "language_info": {
   "codemirror_mode": {
    "name": "ipython",
    "version": 3
   },
   "file_extension": ".py",
   "mimetype": "text/x-python",
   "name": "python",
   "nbconvert_exporter": "python",
   "pygments_lexer": "ipython3",
   "version": "3.12.7"
  }
 },
 "nbformat": 4,
 "nbformat_minor": 5
}
