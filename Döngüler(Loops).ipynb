{
 "cells": [
  {
   "cell_type": "markdown",
   "id": "0ba82d92-55a9-470a-a768-0ac142a7ed36",
   "metadata": {},
   "source": [
    "While döngüsü"
   ]
  },
  {
   "cell_type": "code",
   "execution_count": 3,
   "id": "902c06c4-c59e-4ecf-b2e4-208ccafbca2a",
   "metadata": {},
   "outputs": [
    {
     "name": "stdout",
     "output_type": "stream",
     "text": [
      "0\n",
      "2\n",
      "4\n",
      "6\n",
      "8\n"
     ]
    }
   ],
   "source": [
    "a=0\n",
    "while a<10:\n",
    "    print(a)\n",
    "    a+=2"
   ]
  },
  {
   "cell_type": "code",
   "execution_count": 5,
   "id": "e06fb5c6-9078-4da4-8d62-f9dca4f0ba98",
   "metadata": {},
   "outputs": [
    {
     "name": "stdout",
     "output_type": "stream",
     "text": [
      "0\n",
      "2\n",
      "4\n",
      "6\n",
      "8\n",
      "döngü dışı\n"
     ]
    }
   ],
   "source": [
    "a=0\n",
    "while a<10:\n",
    "    print(a)\n",
    "    a+=2\n",
    "print(\"döngü dışı\")    "
   ]
  },
  {
   "cell_type": "code",
   "execution_count": null,
   "id": "dfcd5567-c836-439b-9aa3-0445ccb1735f",
   "metadata": {},
   "outputs": [],
   "source": []
  }
 ],
 "metadata": {
  "kernelspec": {
   "display_name": "Python 3 (ipykernel)",
   "language": "python",
   "name": "python3"
  },
  "language_info": {
   "codemirror_mode": {
    "name": "ipython",
    "version": 3
   },
   "file_extension": ".py",
   "mimetype": "text/x-python",
   "name": "python",
   "nbconvert_exporter": "python",
   "pygments_lexer": "ipython3",
   "version": "3.12.7"
  }
 },
 "nbformat": 4,
 "nbformat_minor": 5
}
