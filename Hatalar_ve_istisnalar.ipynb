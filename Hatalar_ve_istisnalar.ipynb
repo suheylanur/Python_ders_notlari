{
 "cells": [
  {
   "cell_type": "markdown",
   "id": "c57fd631-057a-4b21-ab61-aa8755dfefe7",
   "metadata": {},
   "source": [
    "NAME ERROR:"
   ]
  },
  {
   "cell_type": "code",
   "execution_count": 2,
   "id": "462a5fa6-fd79-4b0a-866e-3095c844559d",
   "metadata": {},
   "outputs": [
    {
     "ename": "NameError",
     "evalue": "name 'a' is not defined",
     "output_type": "error",
     "traceback": [
      "\u001b[1;31m---------------------------------------------------------------------------\u001b[0m",
      "\u001b[1;31mNameError\u001b[0m                                 Traceback (most recent call last)",
      "Cell \u001b[1;32mIn[2], line 1\u001b[0m\n\u001b[1;32m----> 1\u001b[0m \u001b[38;5;28mprint\u001b[39m(a)\n",
      "\u001b[1;31mNameError\u001b[0m: name 'a' is not defined"
     ]
    }
   ],
   "source": [
    "print(a)"
   ]
  },
  {
   "cell_type": "markdown",
   "id": "4983bb93-f40d-46f9-977d-a6524134a272",
   "metadata": {},
   "source": [
    "VALUE ERROR:"
   ]
  },
  {
   "cell_type": "code",
   "execution_count": 6,
   "id": "58ef17cc-bd74-4533-8ce4-d8972bde5127",
   "metadata": {},
   "outputs": [
    {
     "ename": "ValueError",
     "evalue": "invalid literal for int() with base 10: 'ewfdscx123'",
     "output_type": "error",
     "traceback": [
      "\u001b[1;31m---------------------------------------------------------------------------\u001b[0m",
      "\u001b[1;31mValueError\u001b[0m                                Traceback (most recent call last)",
      "Cell \u001b[1;32mIn[6], line 1\u001b[0m\n\u001b[1;32m----> 1\u001b[0m \u001b[38;5;28mint\u001b[39m(\u001b[38;5;124m\"\u001b[39m\u001b[38;5;124mewfdscx123\u001b[39m\u001b[38;5;124m\"\u001b[39m)\n",
      "\u001b[1;31mValueError\u001b[0m: invalid literal for int() with base 10: 'ewfdscx123'"
     ]
    }
   ],
   "source": [
    "int(\"ewfdscx123\")"
   ]
  },
  {
   "cell_type": "markdown",
   "id": "4d53b930-1d51-4f0a-8b6b-1fdd750480ca",
   "metadata": {},
   "source": [
    "    DİĞER HATALAR VE AÇIKLAMALARI:"
   ]
  },
  {
   "cell_type": "markdown",
   "id": "25566400-bd2d-4b5f-85ec-c11763bab6ee",
   "metadata": {},
   "source": [
    "https://docs.python.org/3/library/exceptions.html"
   ]
  },
  {
   "cell_type": "markdown",
   "id": "30998c0d-e378-4b02-bee8-ad8e823f7007",
   "metadata": {},
   "source": [
    "HATA YAKALAMA:try,except"
   ]
  },
  {
   "cell_type": "markdown",
   "id": "3f951ca1-def2-45df-94fd-9fc68c4217c1",
   "metadata": {},
   "source": [
    "hata çıkarabilecek kodlar yazılır eper hata çıkarsa çprogram uygun olan except bloğuna girer.\n",
    "hata olursa try bloğunun geri kalanındaki isimler çalışmayacak."
   ]
  },
  {
   "cell_type": "code",
   "execution_count": 15,
   "id": "9e1108f0-95d2-4777-b8d0-1a4fa017bcf1",
   "metadata": {},
   "outputs": [
    {
     "ename": "ValueError",
     "evalue": "invalid literal for int() with base 10: 'fvs13'",
     "output_type": "error",
     "traceback": [
      "\u001b[1;31m---------------------------------------------------------------------------\u001b[0m",
      "\u001b[1;31mValueError\u001b[0m                                Traceback (most recent call last)",
      "Cell \u001b[1;32mIn[15], line 1\u001b[0m\n\u001b[1;32m----> 1\u001b[0m a \u001b[38;5;241m=\u001b[39m \u001b[38;5;28mint\u001b[39m(\u001b[38;5;124m\"\u001b[39m\u001b[38;5;124mfvs13\u001b[39m\u001b[38;5;124m\"\u001b[39m)\n",
      "\u001b[1;31mValueError\u001b[0m: invalid literal for int() with base 10: 'fvs13'"
     ]
    }
   ],
   "source": [
    "a = int(\"fvs13\")"
   ]
  },
  {
   "cell_type": "code",
   "execution_count": 17,
   "id": "a17af932-59cd-4a5e-9c71-f06883dd13b1",
   "metadata": {},
   "outputs": [
    {
     "name": "stdout",
     "output_type": "stream",
     "text": [
      "bir hata oluştu\n"
     ]
    }
   ],
   "source": [
    "try:\n",
    "    a = int(\"fvs13\")\n",
    "    print(\"program  burada\")\n",
    "except:   \n",
    "    print(\"bir hata oluştu\")"
   ]
  },
  {
   "cell_type": "code",
   "execution_count": 19,
   "id": "821fe72f-d9eb-4113-a268-78fea74beb36",
   "metadata": {},
   "outputs": [
    {
     "name": "stdout",
     "output_type": "stream",
     "text": [
      "bir hata oluştu\n"
     ]
    }
   ],
   "source": [
    "try:\n",
    "    a = int(\"fvs13\")\n",
    "    print(\"program  burada\")\n",
    "except ValueError:   \n",
    "    print(\"bir hata oluştu\")"
   ]
  },
  {
   "cell_type": "code",
   "execution_count": 31,
   "id": "4e2adb19-043a-47d5-8490-019fa7a8191a",
   "metadata": {},
   "outputs": [
    {
     "name": "stdin",
     "output_type": "stream",
     "text": [
      "sayı1 5\n",
      "sayı2 0\n"
     ]
    },
    {
     "ename": "NameError",
     "evalue": "name 'ZeroDivisonError' is not defined",
     "output_type": "error",
     "traceback": [
      "\u001b[1;31m---------------------------------------------------------------------------\u001b[0m",
      "\u001b[1;31mZeroDivisionError\u001b[0m                         Traceback (most recent call last)",
      "Cell \u001b[1;32mIn[31], line 4\u001b[0m\n\u001b[0;32m      3\u001b[0m     b\u001b[38;5;241m=\u001b[39m\u001b[38;5;28mint\u001b[39m(\u001b[38;5;28minput\u001b[39m(\u001b[38;5;124m\"\u001b[39m\u001b[38;5;124msayı2\u001b[39m\u001b[38;5;124m\"\u001b[39m))\n\u001b[1;32m----> 4\u001b[0m     \u001b[38;5;28mprint\u001b[39m(a\u001b[38;5;241m/\u001b[39mb)\n\u001b[0;32m      5\u001b[0m \u001b[38;5;28;01mexcept\u001b[39;00m \u001b[38;5;167;01mValueError\u001b[39;00m:\n",
      "\u001b[1;31mZeroDivisionError\u001b[0m: division by zero",
      "\nDuring handling of the above exception, another exception occurred:\n",
      "\u001b[1;31mNameError\u001b[0m                                 Traceback (most recent call last)",
      "Cell \u001b[1;32mIn[31], line 7\u001b[0m\n\u001b[0;32m      5\u001b[0m \u001b[38;5;28;01mexcept\u001b[39;00m \u001b[38;5;167;01mValueError\u001b[39;00m:\n\u001b[0;32m      6\u001b[0m     \u001b[38;5;28mprint\u001b[39m(\u001b[38;5;124m\"\u001b[39m\u001b[38;5;124mlütfen inputu dopru girin\u001b[39m\u001b[38;5;124m\"\u001b[39m)\n\u001b[1;32m----> 7\u001b[0m \u001b[38;5;28;01mexcept\u001b[39;00m ZeroDivisonError:\n\u001b[0;32m      8\u001b[0m     \u001b[38;5;28mprint\u001b[39m(\u001b[38;5;124m\"\u001b[39m\u001b[38;5;124mbir sayı 0\u001b[39m\u001b[38;5;124m'\u001b[39m\u001b[38;5;124ma bölünmez\u001b[39m\u001b[38;5;124m\"\u001b[39m)\n\u001b[0;32m      9\u001b[0m \u001b[38;5;28mprint\u001b[39m(\u001b[38;5;124m\"\u001b[39m\u001b[38;5;124mbloklar sona erdi\u001b[39m\u001b[38;5;124m\"\u001b[39m)\n",
      "\u001b[1;31mNameError\u001b[0m: name 'ZeroDivisonError' is not defined"
     ]
    }
   ],
   "source": [
    "\n",
    "try:\n",
    "    a=int(input(\"sayı1\"))\n",
    "    b=int(input(\"sayı2\"))\n",
    "    print(a/b)\n",
    "except ValueError:\n",
    "    print(\"lütfen inputu dopru girin\")\n",
    "except ZeroDivisonError:\n",
    "    print(\"bir sayı 0'a bölünmez\")\n",
    "print(\"bloklar sona erdi\")    \n",
    "    \n",
    "    "
   ]
  },
  {
   "cell_type": "code",
   "execution_count": 33,
   "id": "ccd835b8-8e37-4d21-aafe-527c76335d35",
   "metadata": {},
   "outputs": [
    {
     "name": "stdout",
     "output_type": "stream",
     "text": [
      "345\n",
      "14\n"
     ]
    }
   ],
   "source": [
    "liste = [\"345\",\"sadas\",\"324a\",\"14\",\"kemal\"]\n",
    "\n",
    "for eleman in liste:\n",
    "    \n",
    "    try: \n",
    "        eleman = int(eleman) # Eğer hata ile karşılaşırsak burası hata verecek ve print çalışmayacak.\n",
    "        print(eleman)\n",
    "    except:\n",
    "        pass # pass deyimi bir blokun hiçbir şey yapmadığı anlamına geliyor. Python'ın hata vermemesi için kullanabilirsiniz.\n"
   ]
  },
  {
   "cell_type": "code",
   "execution_count": 35,
   "id": "81a24228-3718-42e7-a689-2f2fbae2aaf4",
   "metadata": {},
   "outputs": [
    {
     "name": "stdout",
     "output_type": "stream",
     "text": [
      "34\n",
      "2\n",
      "100\n",
      "1800\n"
     ]
    }
   ],
   "source": [
    "def çift_mi(sayı):\n",
    "    \n",
    "    if (sayı % 2 == 0):\n",
    "        return sayı\n",
    "    else:\n",
    "        raise ValueError\n",
    "liste = [34,2,1,3,33,100,61,1800]\n",
    "\n",
    "for i in liste:\n",
    "    try:\n",
    "        print(çift_mi(i))\n",
    "    except ValueError:\n",
    "        pass"
   ]
  },
  {
   "cell_type": "code",
   "execution_count": null,
   "id": "2467046c-665f-40ee-a798-556426a45232",
   "metadata": {},
   "outputs": [],
   "source": []
  }
 ],
 "metadata": {
  "kernelspec": {
   "display_name": "Python 3 (ipykernel)",
   "language": "python",
   "name": "python3"
  },
  "language_info": {
   "codemirror_mode": {
    "name": "ipython",
    "version": 3
   },
   "file_extension": ".py",
   "mimetype": "text/x-python",
   "name": "python",
   "nbconvert_exporter": "python",
   "pygments_lexer": "ipython3",
   "version": "3.12.7"
  }
 },
 "nbformat": 4,
 "nbformat_minor": 5
}
